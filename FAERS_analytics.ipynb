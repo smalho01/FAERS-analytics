{
  "nbformat": 4,
  "nbformat_minor": 0,
  "metadata": {
    "colab": {
      "provenance": []
    },
    "kernelspec": {
      "name": "python3",
      "display_name": "Python 3"
    },
    "language_info": {
      "name": "python"
    }
  },
  "cells": [
    {
      "cell_type": "code",
      "execution_count": 1,
      "metadata": {
        "colab": {
          "base_uri": "https://localhost:8080/"
        },
        "id": "FHEivXVmUoai",
        "outputId": "9ae6585c-a7e0-4be8-88ce-c3f7a4a7f8ea"
      },
      "outputs": [
        {
          "output_type": "stream",
          "name": "stdout",
          "text": [
            "Drive already mounted at /content/drive; to attempt to forcibly remount, call drive.mount(\"/content/drive\", force_remount=True).\n"
          ]
        }
      ],
      "source": [
        "from google.colab import drive\n",
        "drive.mount('/content/drive')"
      ]
    },
    {
      "cell_type": "markdown",
      "source": [
        "This will likely need to change everytime if your path looks different to mine... thats annoying"
      ],
      "metadata": {
        "id": "BI3OecWZgA9s"
      }
    },
    {
      "cell_type": "code",
      "source": [
        "PATH_TO_PROJECT = '/content/drive/Othercomputers/My Laptop/FAERS-analytics'"
      ],
      "metadata": {
        "id": "nc55TGzFU0RL"
      },
      "execution_count": 2,
      "outputs": []
    },
    {
      "cell_type": "code",
      "source": [
        "%cd $PATH_TO_PROJECT"
      ],
      "metadata": {
        "colab": {
          "base_uri": "https://localhost:8080/"
        },
        "id": "pAyYWA20glmF",
        "outputId": "2f0ec977-2489-43ec-a2e6-355bd9315c09"
      },
      "execution_count": 3,
      "outputs": [
        {
          "output_type": "stream",
          "name": "stdout",
          "text": [
            "/content/drive/Othercomputers/My Laptop/FAERS-analytics\n"
          ]
        }
      ]
    },
    {
      "cell_type": "code",
      "source": [
        "!ls"
      ],
      "metadata": {
        "id": "tjR-UT_mhsmB",
        "outputId": "42648ff6-cf8c-4999-df4e-1a448c046e64",
        "colab": {
          "base_uri": "https://localhost:8080/"
        }
      },
      "execution_count": 4,
      "outputs": [
        {
          "output_type": "stream",
          "name": "stdout",
          "text": [
            " data\t        DEMO23Q4.txt\t\t INDI23Q3.txt\t   OUTC23Q4.txt   RPSR23Q3.txt\n",
            " dataa.py       DRUG23Q3.txt\t\t INDI23Q4.txt\t   REAC23Q3.txt   RPSR23Q4.txt\n",
            " data-out       DRUG23Q4.txt\t\t merged_data.csv   REAC23Q4.txt   THER23Q3.txt\n",
            " DEMO23Q3.txt  'FAERS analytics.ipynb'\t OUTC23Q3.txt\t   README.md\t  THER23Q4.txt\n"
          ]
        }
      ]
    },
    {
      "cell_type": "code",
      "source": [
        "import os\n",
        "\n",
        "output_path_dir = 'data-out/'\n",
        "input_path_dir = 'data/'\n",
        "\n",
        "if not os.path.isdir(output_path_dir):\n",
        "  !mkdir $output_path_dir\n",
        "\n",
        "for file in os.listdir(input_path_dir):\n",
        "  if file.endswith(\".zip\"):\n",
        "    input_path_file = input_path_dir + file\n",
        "    output_path_file = output_path_dir + file.split('.zip')[0]\n",
        "    if not os.path.isdir(output_path_file):\n",
        "      !mkdir $output_path_file\n",
        "      !unzip $input_path_file -d $output_path_file"
      ],
      "metadata": {
        "id": "8b30c6hwZsWg"
      },
      "execution_count": 5,
      "outputs": []
    },
    {
      "cell_type": "code",
      "source": [
        "!ls $output_path_dir"
      ],
      "metadata": {
        "colab": {
          "base_uri": "https://localhost:8080/"
        },
        "id": "o2QCk4NmaW4Y",
        "outputId": "1631da72-46d7-4085-e382-3baf576a00c6"
      },
      "execution_count": 6,
      "outputs": [
        {
          "output_type": "stream",
          "name": "stdout",
          "text": [
            "FAERS_ASCII_2023_Q3  FAERS_ASCII_2023_Q4\n"
          ]
        }
      ]
    },
    {
      "cell_type": "code",
      "source": [
        "q3_dir = output_path_dir + 'FAERS_ASCII_2023_Q3/ASCII/'\n",
        "!ls $q3_dir"
      ],
      "metadata": {
        "colab": {
          "base_uri": "https://localhost:8080/"
        },
        "id": "5ZN3OfdQzCv8",
        "outputId": "22b5ceb6-cb86-4c1b-c0f0-acd4051d38bb"
      },
      "execution_count": 7,
      "outputs": [
        {
          "output_type": "stream",
          "name": "stdout",
          "text": [
            "ASC_NTS.pdf   DRUG23Q3.pdf  INDI23Q3.txt  REAC23Q3.pdf\tRPSR23Q3.txt\n",
            "DEMO23Q3.pdf  DRUG23Q3.txt  OUTC23Q3.pdf  REAC23Q3.txt\tTHER23Q3.pdf\n",
            "DEMO23Q3.txt  INDI23Q3.pdf  OUTC23Q3.txt  RPSR23Q3.pdf\tTHER23Q3.txt\n"
          ]
        }
      ]
    },
    {
      "cell_type": "code",
      "source": [
        "q4_dir = output_path_dir + 'FAERS_ASCII_2023_Q4/ASCII/'\n",
        "!ls $q4_dir"
      ],
      "metadata": {
        "colab": {
          "base_uri": "https://localhost:8080/"
        },
        "id": "nMvpta9CzNYF",
        "outputId": "d5cbe8e3-dfd6-4958-b083-940f363738a1"
      },
      "execution_count": 8,
      "outputs": [
        {
          "output_type": "stream",
          "name": "stdout",
          "text": [
            "ASC_NTS.pdf   DRUG23Q4.pdf  INDI23Q4.txt  REAC23Q4.pdf\tRPSR23Q4.txt\n",
            "DEMO23Q4.pdf  DRUG23Q4.txt  OUTC23Q4.pdf  REAC23Q4.txt\tTHER23Q4.pdf\n",
            "DEMO23Q4.txt  INDI23Q4.pdf  OUTC23Q4.txt  RPSR23Q4.pdf\tTHER23Q4.txt\n"
          ]
        }
      ]
    },
    {
      "cell_type": "code",
      "source": [
        "import pandas as pd\n",
        "\n",
        "data = {}\n",
        "directories = [q3_dir, q4_dir]\n",
        "\n",
        "\n",
        "for directory in directories:\n",
        "  for file in os.listdir(directory):\n",
        "    if file.endswith(\".txt\"):\n",
        "      input_path_file = './' + directory + file\n",
        "      output_data_frame_name = file.split('.txt')[0]\n",
        "      output_data_frame = pd.read_csv(input_path_file, sep='$')\n",
        "      data[output_data_frame_name] = output_data_frame\n",
        "\n",
        "data.keys()\n"
      ],
      "metadata": {
        "colab": {
          "base_uri": "https://localhost:8080/"
        },
        "id": "UVLr5gICzQ_F",
        "outputId": "a3a2d3ab-900b-4699-f039-8044edb9dc39"
      },
      "execution_count": 9,
      "outputs": [
        {
          "output_type": "stream",
          "name": "stderr",
          "text": [
            "<ipython-input-9-1f57bd4ffc9c>:12: DtypeWarning: Columns (21) have mixed types. Specify dtype option on import or set low_memory=False.\n",
            "  output_data_frame = pd.read_csv(input_path_file, sep='$')\n",
            "<ipython-input-9-1f57bd4ffc9c>:12: DtypeWarning: Columns (21) have mixed types. Specify dtype option on import or set low_memory=False.\n",
            "  output_data_frame = pd.read_csv(input_path_file, sep='$')\n"
          ]
        },
        {
          "output_type": "execute_result",
          "data": {
            "text/plain": [
              "dict_keys(['THER23Q3', 'DRUG23Q3', 'RPSR23Q3', 'REAC23Q3', 'INDI23Q3', 'OUTC23Q3', 'DEMO23Q3', 'THER23Q4', 'RPSR23Q4', 'DRUG23Q4', 'REAC23Q4', 'OUTC23Q4', 'INDI23Q4', 'DEMO23Q4'])"
            ]
          },
          "metadata": {},
          "execution_count": 9
        }
      ]
    },
    {
      "cell_type": "code",
      "source": [
        "for df_name, df in data.items():\n",
        "    print('Current Table Name: ' + df_name)\n",
        "    print('Current Table Shape: ' + str(df.shape))\n",
        "    print('Current Table Snippet: \\n')\n",
        "    print(df.head())\n",
        "    print ('\\n\\n -------------------------------------------------------------------------- \\n\\n')"
      ],
      "metadata": {
        "colab": {
          "base_uri": "https://localhost:8080/"
        },
        "id": "fk1L2lHu5udc",
        "outputId": "c74dc8f7-116f-423c-b162-afd0a568527a"
      },
      "execution_count": 10,
      "outputs": [
        {
          "output_type": "stream",
          "name": "stdout",
          "text": [
            "Current Table Name: THER23Q3\n",
            "Current Table Shape: (593027, 7)\n",
            "Current Table Snippet: \n",
            "\n",
            "    primaryid    caseid  dsg_drug_seq    start_dt      end_dt     dur dur_cod\n",
            "0   100051542  10005154             1  20120215.0         NaN     NaN     NaN\n",
            "1  1001678123  10016781             1    201201.0    201204.0     NaN     NaN\n",
            "2  1001678123  10016781             4  20120327.0         NaN     NaN     NaN\n",
            "3  1001678123  10016781            10  20121005.0  20200121.0  2665.0     DAY\n",
            "4  1001678123  10016781            12         NaN  20200121.0     NaN     NaN\n",
            "\n",
            "\n",
            " -------------------------------------------------------------------------- \n",
            "\n",
            "\n",
            "Current Table Name: DRUG23Q3\n",
            "Current Table Shape: (1768391, 20)\n",
            "Current Table Snippet: \n",
            "\n",
            "    primaryid    caseid  drug_seq role_cod     drugname             prod_ai  \\\n",
            "0   100051542  10005154         1       PS       JAKAFI         RUXOLITINIB   \n",
            "1   100051542  10005154         2       SS       JAKAFI         RUXOLITINIB   \n",
            "2   100051542  10005154         3       SS       JAKAFI         RUXOLITINIB   \n",
            "3  1001678123  10016781         1       PS  SANDOSTATIN  OCTREOTIDE ACETATE   \n",
            "4  1001678123  10016781         2       SS  SANDOSTATIN  OCTREOTIDE ACETATE   \n",
            "\n",
            "   val_vbm         route                                dose_vbm  \\\n",
            "0        1          Oral                              20 mg, bid   \n",
            "1        1          Oral                              20 mg, bid   \n",
            "2        1          Oral                              20 mg, bid   \n",
            "3        1  Subcutaneous  UNK, TID (cont 02 weeks post 01st LAR)   \n",
            "4        1           NaN                                     NaN   \n",
            "\n",
            "   cum_dose_chr cum_dose_unit dechal rechal  lot_num  exp_dt   nda_num  \\\n",
            "0           NaN           NaN      U      U  A79945T     NaN  202192.0   \n",
            "1           NaN           NaN      U      U      NaN     NaN  202192.0   \n",
            "2           NaN           NaN      U      U  AQ9612M     NaN  202192.0   \n",
            "3           NaN           NaN      Y      U      NaN     NaN   19667.0   \n",
            "4           NaN           NaN      Y      U      NaN     NaN   19667.0   \n",
            "\n",
            "   dose_amt dose_unit dose_form dose_freq  \n",
            "0      20.0        MG    Tablet       BID  \n",
            "1      20.0        MG    Tablet       BID  \n",
            "2      20.0        MG    Tablet       BID  \n",
            "3       NaN       NaN       NaN       TID  \n",
            "4       NaN       NaN       NaN       NaN  \n",
            "\n",
            "\n",
            " -------------------------------------------------------------------------- \n",
            "\n",
            "\n",
            "Current Table Name: RPSR23Q3\n",
            "Current Table Shape: (11524, 3)\n",
            "Current Table Snippet: \n",
            "\n",
            "   primaryid    caseid rpsr_cod\n",
            "0  226642531  22664253       HP\n",
            "1  226652471  22665247       HP\n",
            "2  226653301  22665330      CSM\n",
            "3  226653571  22665357      CSM\n",
            "4  226655061  22665506      CSM\n",
            "\n",
            "\n",
            " -------------------------------------------------------------------------- \n",
            "\n",
            "\n",
            "Current Table Name: REAC23Q3\n",
            "Current Table Shape: (1373338, 4)\n",
            "Current Table Snippet: \n",
            "\n",
            "    primaryid    caseid                          pt drug_rec_act\n",
            "0   100051542  10005154  Product availability issue          NaN\n",
            "1   100051542  10005154                     Fatigue          NaN\n",
            "2  1001678123  10016781   Haemorrhoidal haemorrhage          NaN\n",
            "3  1001678123  10016781                    COVID-19          NaN\n",
            "4  1001678123  10016781                   Bone pain          NaN\n",
            "\n",
            "\n",
            " -------------------------------------------------------------------------- \n",
            "\n",
            "\n",
            "Current Table Name: INDI23Q3\n",
            "Current Table Shape: (1063761, 4)\n",
            "Current Table Snippet: \n",
            "\n",
            "    primaryid    caseid  indi_drug_seq                              indi_pt\n",
            "0   100051542  10005154              1                        Myelofibrosis\n",
            "1  1001678123  10016781              1                Neuroendocrine tumour\n",
            "2  1001678123  10016781              4                Neuroendocrine tumour\n",
            "3  1001678123  10016781             10                Neuroendocrine tumour\n",
            "4  1001678123  10016781             11  Product used for unknown indication\n",
            "\n",
            "\n",
            " -------------------------------------------------------------------------- \n",
            "\n",
            "\n",
            "Current Table Name: OUTC23Q3\n",
            "Current Table Shape: (307396, 3)\n",
            "Current Table Snippet: \n",
            "\n",
            "    primaryid    caseid outc_cod\n",
            "0  1001678123  10016781       OT\n",
            "1   100277024  10027702       OT\n",
            "2   100503669  10050366       DE\n",
            "3   100503669  10050366       HO\n",
            "4   100503669  10050366       OT\n",
            "\n",
            "\n",
            " -------------------------------------------------------------------------- \n",
            "\n",
            "\n",
            "Current Table Name: DEMO23Q3\n",
            "Current Table Shape: (407522, 25)\n",
            "Current Table Snippet: \n",
            "\n",
            "    primaryid    caseid  caseversion i_f_code    event_dt      mfr_dt  \\\n",
            "0   100051542  10005154            2        F  20230718.0  20230718.0   \n",
            "1  1001678123  10016781           23        F  20120330.0  20230905.0   \n",
            "2   100277024  10027702            4        F  20120101.0  20230808.0   \n",
            "3   100503669  10050366            9        F  20140310.0  20230624.0   \n",
            "4   100762232  10076223            2        F         NaN  20230925.0   \n",
            "\n",
            "   init_fda_dt    fda_dt rept_cod auth_num  ... age_grp  sex e_sub    wt  \\\n",
            "0     20140312  20230726      PER      NaN  ...     NaN  NaN     Y   NaN   \n",
            "1     20140318  20230912      EXP      NaN  ...     NaN    F     Y   NaN   \n",
            "2     20140321  20230815      EXP      NaN  ...       E    M     Y  47.0   \n",
            "3     20140401  20230808      EXP      NaN  ...       A    M     Y  98.0   \n",
            "4     20140414  20230929      EXP      NaN  ...     NaN    F     Y   NaN   \n",
            "\n",
            "  wt_cod   rept_dt to_mfr occp_cod  reporter_country occr_country  \n",
            "0    NaN  20230727    NaN       CN                US           US  \n",
            "1    NaN  20230912    NaN       HP                CA           CA  \n",
            "2     KG  20230815    NaN       MD                JP           JP  \n",
            "3     KG  20230809    NaN       HP                US           US  \n",
            "4    NaN  20230929    NaN       MD                DK           DK  \n",
            "\n",
            "[5 rows x 25 columns]\n",
            "\n",
            "\n",
            " -------------------------------------------------------------------------- \n",
            "\n",
            "\n",
            "Current Table Name: THER23Q4\n",
            "Current Table Shape: (633087, 7)\n",
            "Current Table Snippet: \n",
            "\n",
            "    primaryid    caseid  dsg_drug_seq    start_dt    end_dt  dur dur_cod\n",
            "0  1001678124  10016781             1    201201.0  201204.0  NaN     NaN\n",
            "1  1001678124  10016781             2  20120327.0       NaN  NaN     NaN\n",
            "2  1001678124  10016781             4  20120327.0       NaN  NaN     NaN\n",
            "3  1001678124  10016781            10      2012.0    2012.0  NaN     NaN\n",
            "4  1001678124  10016781            11  20121005.0       NaN  NaN     NaN\n",
            "\n",
            "\n",
            " -------------------------------------------------------------------------- \n",
            "\n",
            "\n",
            "Current Table Name: RPSR23Q4\n",
            "Current Table Shape: (13238, 3)\n",
            "Current Table Snippet: \n",
            "\n",
            "   primaryid    caseid rpsr_cod\n",
            "0  230149591  23014959      CSM\n",
            "1  230150561  23015056       HP\n",
            "2  230150731  23015073       HP\n",
            "3  230150811  23015081       HP\n",
            "4  230150931  23015093       HP\n",
            "\n",
            "\n",
            " -------------------------------------------------------------------------- \n",
            "\n",
            "\n",
            "Current Table Name: DRUG23Q4\n",
            "Current Table Shape: (1920732, 20)\n",
            "Current Table Snippet: \n",
            "\n",
            "   primaryid    caseid  drug_seq role_cod   drugname                prod_ai  \\\n",
            "0  100144838  10014483         1       PS  ISENTRESS  RALTEGRAVIR POTASSIUM   \n",
            "1  100144838  10014483         2       SS  ISENTRESS  RALTEGRAVIR POTASSIUM   \n",
            "2  100144838  10014483         3       SS  ISENTRESS  RALTEGRAVIR POTASSIUM   \n",
            "3  100144838  10014483         4       SS   ABACAVIR               ABACAVIR   \n",
            "4  100144838  10014483         5       SS   ABACAVIR               ABACAVIR   \n",
            "\n",
            "   val_vbm           route     dose_vbm  cum_dose_chr cum_dose_unit dechal  \\\n",
            "0        1  Transplacental  400 mg, bid           NaN           NaN      D   \n",
            "1        1  Transplacental       400 mg           NaN           NaN      D   \n",
            "2        1  Transplacental          UNK           NaN           NaN      D   \n",
            "3        1  Transplacental  300 mg, bid           NaN           NaN      D   \n",
            "4        1  Transplacental       300 mg           NaN           NaN      D   \n",
            "\n",
            "  rechal lot_num  exp_dt  nda_num  dose_amt dose_unit dose_form dose_freq  \n",
            "0    NaN     NaN     NaN  22145.0     400.0        MG    Tablet       BID  \n",
            "1    NaN     NaN     NaN  22145.0     400.0        MG    Tablet       NaN  \n",
            "2    NaN     NaN     NaN  22145.0       NaN       NaN    Tablet       NaN  \n",
            "3    NaN     NaN     NaN      NaN     300.0        MG   Capsule       BID  \n",
            "4    NaN     NaN     NaN      NaN     300.0        MG   Capsule       NaN  \n",
            "\n",
            "\n",
            " -------------------------------------------------------------------------- \n",
            "\n",
            "\n",
            "Current Table Name: REAC23Q4\n",
            "Current Table Shape: (1500033, 4)\n",
            "Current Table Snippet: \n",
            "\n",
            "    primaryid    caseid                                pt drug_rec_act\n",
            "0   100144838  10014483  Foetal exposure during pregnancy          NaN\n",
            "1   100144838  10014483        Toxicity to various agents          NaN\n",
            "2   100144838  10014483                           Anaemia          NaN\n",
            "3  1001678124  10016781                         Dizziness          NaN\n",
            "4  1001678124  10016781                              Rash          NaN\n",
            "\n",
            "\n",
            " -------------------------------------------------------------------------- \n",
            "\n",
            "\n",
            "Current Table Name: OUTC23Q4\n",
            "Current Table Shape: (327797, 3)\n",
            "Current Table Snippet: \n",
            "\n",
            "    primaryid    caseid outc_cod\n",
            "0   100144838  10014483       OT\n",
            "1  1001678124  10016781       OT\n",
            "2  1002130539  10021305       HO\n",
            "3  1002130539  10021305       OT\n",
            "4   100293662  10029366       OT\n",
            "\n",
            "\n",
            " -------------------------------------------------------------------------- \n",
            "\n",
            "\n",
            "Current Table Name: INDI23Q4\n",
            "Current Table Shape: (1115961, 4)\n",
            "Current Table Snippet: \n",
            "\n",
            "   primaryid    caseid  indi_drug_seq                              indi_pt\n",
            "0  100144838  10014483              1                        HIV infection\n",
            "1  100144838  10014483              2  Product used for unknown indication\n",
            "2  100144838  10014483              4  Product used for unknown indication\n",
            "3  100144838  10014483              7                        HIV infection\n",
            "4  100144838  10014483              8  Product used for unknown indication\n",
            "\n",
            "\n",
            " -------------------------------------------------------------------------- \n",
            "\n",
            "\n",
            "Current Table Name: DEMO23Q4\n",
            "Current Table Shape: (415379, 25)\n",
            "Current Table Snippet: \n",
            "\n",
            "    primaryid    caseid  caseversion i_f_code    event_dt      mfr_dt  \\\n",
            "0   100144838  10014483            8        F         NaN  20231123.0   \n",
            "1  1001678124  10016781           24        F  20120330.0  20231130.0   \n",
            "2  1002130539  10021305           39        F  20210415.0  20230523.0   \n",
            "3   100293662  10029366            2        F         NaN  20231108.0   \n",
            "4   100356167  10035616            7        F  20140321.0  20230928.0   \n",
            "\n",
            "   init_fda_dt    fda_dt rept_cod auth_num  ... age_grp  sex e_sub    wt  \\\n",
            "0     20140317  20231205      EXP      NaN  ...     NaN  NaN     Y   NaN   \n",
            "1     20140318  20231211      EXP      NaN  ...     NaN    F     Y   NaN   \n",
            "2     20140319  20231130      EXP      NaN  ...       A    M     Y   NaN   \n",
            "3     20140322  20231115      EXP      NaN  ...     NaN    M     Y   NaN   \n",
            "4     20140325  20231002      EXP      NaN  ...       E    F     Y  50.0   \n",
            "\n",
            "  wt_cod   rept_dt to_mfr occp_cod  reporter_country occr_country  \n",
            "0    NaN  20231205    NaN       HP                CA           CA  \n",
            "1    NaN  20231211    NaN       HP                CA           CA  \n",
            "2    NaN  20231130    NaN       HP                CA           CA  \n",
            "3    NaN  20231115    NaN       HP                AU           AU  \n",
            "4     KG  20231002    NaN       MD                JP           JP  \n",
            "\n",
            "[5 rows x 25 columns]\n",
            "\n",
            "\n",
            " -------------------------------------------------------------------------- \n",
            "\n",
            "\n"
          ]
        }
      ]
    },
    {
      "cell_type": "code",
      "source": [
        "# Print the name of each DataFrame in the 'data' dictionary, and inspect the first one more closely\n",
        "for df_name in data.keys():\n",
        "    print(f\"DataFrame Name: {df_name}\")\n",
        "    print(f\"Shape: {data[df_name].shape}\")\n",
        "    print(f\"Columns: {data[df_name].columns.tolist()}\")\n",
        "    print(f\"First few rows of {df_name}:\")\n",
        "    print(data[df_name].head())\n",
        "    print(\"\\n----------------------------------------------------------------\\n\")\n",
        "\n",
        "# Note: This will print information for all your DataFrames. If you have many, you might want to limit this.\n"
      ],
      "metadata": {
        "colab": {
          "base_uri": "https://localhost:8080/"
        },
        "id": "bnhQilkhuGG9",
        "outputId": "b10915ae-0e3a-49a0-f65e-43608e0d2513"
      },
      "execution_count": 11,
      "outputs": [
        {
          "output_type": "stream",
          "name": "stdout",
          "text": [
            "DataFrame Name: THER23Q3\n",
            "Shape: (593027, 7)\n",
            "Columns: ['primaryid', 'caseid', 'dsg_drug_seq', 'start_dt', 'end_dt', 'dur', 'dur_cod']\n",
            "First few rows of THER23Q3:\n",
            "    primaryid    caseid  dsg_drug_seq    start_dt      end_dt     dur dur_cod\n",
            "0   100051542  10005154             1  20120215.0         NaN     NaN     NaN\n",
            "1  1001678123  10016781             1    201201.0    201204.0     NaN     NaN\n",
            "2  1001678123  10016781             4  20120327.0         NaN     NaN     NaN\n",
            "3  1001678123  10016781            10  20121005.0  20200121.0  2665.0     DAY\n",
            "4  1001678123  10016781            12         NaN  20200121.0     NaN     NaN\n",
            "\n",
            "----------------------------------------------------------------\n",
            "\n",
            "DataFrame Name: DRUG23Q3\n",
            "Shape: (1768391, 20)\n",
            "Columns: ['primaryid', 'caseid', 'drug_seq', 'role_cod', 'drugname', 'prod_ai', 'val_vbm', 'route', 'dose_vbm', 'cum_dose_chr', 'cum_dose_unit', 'dechal', 'rechal', 'lot_num', 'exp_dt', 'nda_num', 'dose_amt', 'dose_unit', 'dose_form', 'dose_freq']\n",
            "First few rows of DRUG23Q3:\n",
            "    primaryid    caseid  drug_seq role_cod     drugname             prod_ai  \\\n",
            "0   100051542  10005154         1       PS       JAKAFI         RUXOLITINIB   \n",
            "1   100051542  10005154         2       SS       JAKAFI         RUXOLITINIB   \n",
            "2   100051542  10005154         3       SS       JAKAFI         RUXOLITINIB   \n",
            "3  1001678123  10016781         1       PS  SANDOSTATIN  OCTREOTIDE ACETATE   \n",
            "4  1001678123  10016781         2       SS  SANDOSTATIN  OCTREOTIDE ACETATE   \n",
            "\n",
            "   val_vbm         route                                dose_vbm  \\\n",
            "0        1          Oral                              20 mg, bid   \n",
            "1        1          Oral                              20 mg, bid   \n",
            "2        1          Oral                              20 mg, bid   \n",
            "3        1  Subcutaneous  UNK, TID (cont 02 weeks post 01st LAR)   \n",
            "4        1           NaN                                     NaN   \n",
            "\n",
            "   cum_dose_chr cum_dose_unit dechal rechal  lot_num  exp_dt   nda_num  \\\n",
            "0           NaN           NaN      U      U  A79945T     NaN  202192.0   \n",
            "1           NaN           NaN      U      U      NaN     NaN  202192.0   \n",
            "2           NaN           NaN      U      U  AQ9612M     NaN  202192.0   \n",
            "3           NaN           NaN      Y      U      NaN     NaN   19667.0   \n",
            "4           NaN           NaN      Y      U      NaN     NaN   19667.0   \n",
            "\n",
            "   dose_amt dose_unit dose_form dose_freq  \n",
            "0      20.0        MG    Tablet       BID  \n",
            "1      20.0        MG    Tablet       BID  \n",
            "2      20.0        MG    Tablet       BID  \n",
            "3       NaN       NaN       NaN       TID  \n",
            "4       NaN       NaN       NaN       NaN  \n",
            "\n",
            "----------------------------------------------------------------\n",
            "\n",
            "DataFrame Name: RPSR23Q3\n",
            "Shape: (11524, 3)\n",
            "Columns: ['primaryid', 'caseid', 'rpsr_cod']\n",
            "First few rows of RPSR23Q3:\n",
            "   primaryid    caseid rpsr_cod\n",
            "0  226642531  22664253       HP\n",
            "1  226652471  22665247       HP\n",
            "2  226653301  22665330      CSM\n",
            "3  226653571  22665357      CSM\n",
            "4  226655061  22665506      CSM\n",
            "\n",
            "----------------------------------------------------------------\n",
            "\n",
            "DataFrame Name: REAC23Q3\n",
            "Shape: (1373338, 4)\n",
            "Columns: ['primaryid', 'caseid', 'pt', 'drug_rec_act']\n",
            "First few rows of REAC23Q3:\n",
            "    primaryid    caseid                          pt drug_rec_act\n",
            "0   100051542  10005154  Product availability issue          NaN\n",
            "1   100051542  10005154                     Fatigue          NaN\n",
            "2  1001678123  10016781   Haemorrhoidal haemorrhage          NaN\n",
            "3  1001678123  10016781                    COVID-19          NaN\n",
            "4  1001678123  10016781                   Bone pain          NaN\n",
            "\n",
            "----------------------------------------------------------------\n",
            "\n",
            "DataFrame Name: INDI23Q3\n",
            "Shape: (1063761, 4)\n",
            "Columns: ['primaryid', 'caseid', 'indi_drug_seq', 'indi_pt']\n",
            "First few rows of INDI23Q3:\n",
            "    primaryid    caseid  indi_drug_seq                              indi_pt\n",
            "0   100051542  10005154              1                        Myelofibrosis\n",
            "1  1001678123  10016781              1                Neuroendocrine tumour\n",
            "2  1001678123  10016781              4                Neuroendocrine tumour\n",
            "3  1001678123  10016781             10                Neuroendocrine tumour\n",
            "4  1001678123  10016781             11  Product used for unknown indication\n",
            "\n",
            "----------------------------------------------------------------\n",
            "\n",
            "DataFrame Name: OUTC23Q3\n",
            "Shape: (307396, 3)\n",
            "Columns: ['primaryid', 'caseid', 'outc_cod']\n",
            "First few rows of OUTC23Q3:\n",
            "    primaryid    caseid outc_cod\n",
            "0  1001678123  10016781       OT\n",
            "1   100277024  10027702       OT\n",
            "2   100503669  10050366       DE\n",
            "3   100503669  10050366       HO\n",
            "4   100503669  10050366       OT\n",
            "\n",
            "----------------------------------------------------------------\n",
            "\n",
            "DataFrame Name: DEMO23Q3\n",
            "Shape: (407522, 25)\n",
            "Columns: ['primaryid', 'caseid', 'caseversion', 'i_f_code', 'event_dt', 'mfr_dt', 'init_fda_dt', 'fda_dt', 'rept_cod', 'auth_num', 'mfr_num', 'mfr_sndr', 'lit_ref', 'age', 'age_cod', 'age_grp', 'sex', 'e_sub', 'wt', 'wt_cod', 'rept_dt', 'to_mfr', 'occp_cod', 'reporter_country', 'occr_country']\n",
            "First few rows of DEMO23Q3:\n",
            "    primaryid    caseid  caseversion i_f_code    event_dt      mfr_dt  \\\n",
            "0   100051542  10005154            2        F  20230718.0  20230718.0   \n",
            "1  1001678123  10016781           23        F  20120330.0  20230905.0   \n",
            "2   100277024  10027702            4        F  20120101.0  20230808.0   \n",
            "3   100503669  10050366            9        F  20140310.0  20230624.0   \n",
            "4   100762232  10076223            2        F         NaN  20230925.0   \n",
            "\n",
            "   init_fda_dt    fda_dt rept_cod auth_num  ... age_grp  sex e_sub    wt  \\\n",
            "0     20140312  20230726      PER      NaN  ...     NaN  NaN     Y   NaN   \n",
            "1     20140318  20230912      EXP      NaN  ...     NaN    F     Y   NaN   \n",
            "2     20140321  20230815      EXP      NaN  ...       E    M     Y  47.0   \n",
            "3     20140401  20230808      EXP      NaN  ...       A    M     Y  98.0   \n",
            "4     20140414  20230929      EXP      NaN  ...     NaN    F     Y   NaN   \n",
            "\n",
            "  wt_cod   rept_dt to_mfr occp_cod  reporter_country occr_country  \n",
            "0    NaN  20230727    NaN       CN                US           US  \n",
            "1    NaN  20230912    NaN       HP                CA           CA  \n",
            "2     KG  20230815    NaN       MD                JP           JP  \n",
            "3     KG  20230809    NaN       HP                US           US  \n",
            "4    NaN  20230929    NaN       MD                DK           DK  \n",
            "\n",
            "[5 rows x 25 columns]\n",
            "\n",
            "----------------------------------------------------------------\n",
            "\n",
            "DataFrame Name: THER23Q4\n",
            "Shape: (633087, 7)\n",
            "Columns: ['primaryid', 'caseid', 'dsg_drug_seq', 'start_dt', 'end_dt', 'dur', 'dur_cod']\n",
            "First few rows of THER23Q4:\n",
            "    primaryid    caseid  dsg_drug_seq    start_dt    end_dt  dur dur_cod\n",
            "0  1001678124  10016781             1    201201.0  201204.0  NaN     NaN\n",
            "1  1001678124  10016781             2  20120327.0       NaN  NaN     NaN\n",
            "2  1001678124  10016781             4  20120327.0       NaN  NaN     NaN\n",
            "3  1001678124  10016781            10      2012.0    2012.0  NaN     NaN\n",
            "4  1001678124  10016781            11  20121005.0       NaN  NaN     NaN\n",
            "\n",
            "----------------------------------------------------------------\n",
            "\n",
            "DataFrame Name: RPSR23Q4\n",
            "Shape: (13238, 3)\n",
            "Columns: ['primaryid', 'caseid', 'rpsr_cod']\n",
            "First few rows of RPSR23Q4:\n",
            "   primaryid    caseid rpsr_cod\n",
            "0  230149591  23014959      CSM\n",
            "1  230150561  23015056       HP\n",
            "2  230150731  23015073       HP\n",
            "3  230150811  23015081       HP\n",
            "4  230150931  23015093       HP\n",
            "\n",
            "----------------------------------------------------------------\n",
            "\n",
            "DataFrame Name: DRUG23Q4\n",
            "Shape: (1920732, 20)\n",
            "Columns: ['primaryid', 'caseid', 'drug_seq', 'role_cod', 'drugname', 'prod_ai', 'val_vbm', 'route', 'dose_vbm', 'cum_dose_chr', 'cum_dose_unit', 'dechal', 'rechal', 'lot_num', 'exp_dt', 'nda_num', 'dose_amt', 'dose_unit', 'dose_form', 'dose_freq']\n",
            "First few rows of DRUG23Q4:\n",
            "   primaryid    caseid  drug_seq role_cod   drugname                prod_ai  \\\n",
            "0  100144838  10014483         1       PS  ISENTRESS  RALTEGRAVIR POTASSIUM   \n",
            "1  100144838  10014483         2       SS  ISENTRESS  RALTEGRAVIR POTASSIUM   \n",
            "2  100144838  10014483         3       SS  ISENTRESS  RALTEGRAVIR POTASSIUM   \n",
            "3  100144838  10014483         4       SS   ABACAVIR               ABACAVIR   \n",
            "4  100144838  10014483         5       SS   ABACAVIR               ABACAVIR   \n",
            "\n",
            "   val_vbm           route     dose_vbm  cum_dose_chr cum_dose_unit dechal  \\\n",
            "0        1  Transplacental  400 mg, bid           NaN           NaN      D   \n",
            "1        1  Transplacental       400 mg           NaN           NaN      D   \n",
            "2        1  Transplacental          UNK           NaN           NaN      D   \n",
            "3        1  Transplacental  300 mg, bid           NaN           NaN      D   \n",
            "4        1  Transplacental       300 mg           NaN           NaN      D   \n",
            "\n",
            "  rechal lot_num  exp_dt  nda_num  dose_amt dose_unit dose_form dose_freq  \n",
            "0    NaN     NaN     NaN  22145.0     400.0        MG    Tablet       BID  \n",
            "1    NaN     NaN     NaN  22145.0     400.0        MG    Tablet       NaN  \n",
            "2    NaN     NaN     NaN  22145.0       NaN       NaN    Tablet       NaN  \n",
            "3    NaN     NaN     NaN      NaN     300.0        MG   Capsule       BID  \n",
            "4    NaN     NaN     NaN      NaN     300.0        MG   Capsule       NaN  \n",
            "\n",
            "----------------------------------------------------------------\n",
            "\n",
            "DataFrame Name: REAC23Q4\n",
            "Shape: (1500033, 4)\n",
            "Columns: ['primaryid', 'caseid', 'pt', 'drug_rec_act']\n",
            "First few rows of REAC23Q4:\n",
            "    primaryid    caseid                                pt drug_rec_act\n",
            "0   100144838  10014483  Foetal exposure during pregnancy          NaN\n",
            "1   100144838  10014483        Toxicity to various agents          NaN\n",
            "2   100144838  10014483                           Anaemia          NaN\n",
            "3  1001678124  10016781                         Dizziness          NaN\n",
            "4  1001678124  10016781                              Rash          NaN\n",
            "\n",
            "----------------------------------------------------------------\n",
            "\n",
            "DataFrame Name: OUTC23Q4\n",
            "Shape: (327797, 3)\n",
            "Columns: ['primaryid', 'caseid', 'outc_cod']\n",
            "First few rows of OUTC23Q4:\n",
            "    primaryid    caseid outc_cod\n",
            "0   100144838  10014483       OT\n",
            "1  1001678124  10016781       OT\n",
            "2  1002130539  10021305       HO\n",
            "3  1002130539  10021305       OT\n",
            "4   100293662  10029366       OT\n",
            "\n",
            "----------------------------------------------------------------\n",
            "\n",
            "DataFrame Name: INDI23Q4\n",
            "Shape: (1115961, 4)\n",
            "Columns: ['primaryid', 'caseid', 'indi_drug_seq', 'indi_pt']\n",
            "First few rows of INDI23Q4:\n",
            "   primaryid    caseid  indi_drug_seq                              indi_pt\n",
            "0  100144838  10014483              1                        HIV infection\n",
            "1  100144838  10014483              2  Product used for unknown indication\n",
            "2  100144838  10014483              4  Product used for unknown indication\n",
            "3  100144838  10014483              7                        HIV infection\n",
            "4  100144838  10014483              8  Product used for unknown indication\n",
            "\n",
            "----------------------------------------------------------------\n",
            "\n",
            "DataFrame Name: DEMO23Q4\n",
            "Shape: (415379, 25)\n",
            "Columns: ['primaryid', 'caseid', 'caseversion', 'i_f_code', 'event_dt', 'mfr_dt', 'init_fda_dt', 'fda_dt', 'rept_cod', 'auth_num', 'mfr_num', 'mfr_sndr', 'lit_ref', 'age', 'age_cod', 'age_grp', 'sex', 'e_sub', 'wt', 'wt_cod', 'rept_dt', 'to_mfr', 'occp_cod', 'reporter_country', 'occr_country']\n",
            "First few rows of DEMO23Q4:\n",
            "    primaryid    caseid  caseversion i_f_code    event_dt      mfr_dt  \\\n",
            "0   100144838  10014483            8        F         NaN  20231123.0   \n",
            "1  1001678124  10016781           24        F  20120330.0  20231130.0   \n",
            "2  1002130539  10021305           39        F  20210415.0  20230523.0   \n",
            "3   100293662  10029366            2        F         NaN  20231108.0   \n",
            "4   100356167  10035616            7        F  20140321.0  20230928.0   \n",
            "\n",
            "   init_fda_dt    fda_dt rept_cod auth_num  ... age_grp  sex e_sub    wt  \\\n",
            "0     20140317  20231205      EXP      NaN  ...     NaN  NaN     Y   NaN   \n",
            "1     20140318  20231211      EXP      NaN  ...     NaN    F     Y   NaN   \n",
            "2     20140319  20231130      EXP      NaN  ...       A    M     Y   NaN   \n",
            "3     20140322  20231115      EXP      NaN  ...     NaN    M     Y   NaN   \n",
            "4     20140325  20231002      EXP      NaN  ...       E    F     Y  50.0   \n",
            "\n",
            "  wt_cod   rept_dt to_mfr occp_cod  reporter_country occr_country  \n",
            "0    NaN  20231205    NaN       HP                CA           CA  \n",
            "1    NaN  20231211    NaN       HP                CA           CA  \n",
            "2    NaN  20231130    NaN       HP                CA           CA  \n",
            "3    NaN  20231115    NaN       HP                AU           AU  \n",
            "4     KG  20231002    NaN       MD                JP           JP  \n",
            "\n",
            "[5 rows x 25 columns]\n",
            "\n",
            "----------------------------------------------------------------\n",
            "\n"
          ]
        }
      ]
    },
    {
      "cell_type": "code",
      "source": [
        "import matplotlib.pyplot as plt\n",
        "import seaborn as sns\n",
        "\n",
        "# Count the occurrence of each outcome code\n",
        "outc_counts = data['OUTC23Q4']['outc_cod'].value_counts().reset_index()\n",
        "outc_counts.columns = ['Outcome Code', 'Count']\n",
        "\n",
        "plt.figure(figsize=(10, 6))\n",
        "sns.barplot(x='Outcome Code', y='Count', data=outc_counts, palette='viridis')\n",
        "plt.title('Number of Reports by Outcome Code')\n",
        "plt.xlabel('Outcome Code')\n",
        "plt.ylabel('Number of Reports')\n",
        "plt.xticks(rotation=45)\n",
        "plt.show()\n"
      ],
      "metadata": {
        "colab": {
          "base_uri": "https://localhost:8080/",
          "height": 568
        },
        "id": "10Dr7uR1u1ww",
        "outputId": "dc7cf28c-da73-429b-e6f0-0528cbaed7be"
      },
      "execution_count": 12,
      "outputs": [
        {
          "output_type": "stream",
          "name": "stderr",
          "text": [
            "<ipython-input-12-4feecd6561ce>:9: FutureWarning: \n",
            "\n",
            "Passing `palette` without assigning `hue` is deprecated and will be removed in v0.14.0. Assign the `x` variable to `hue` and set `legend=False` for the same effect.\n",
            "\n",
            "  sns.barplot(x='Outcome Code', y='Count', data=outc_counts, palette='viridis')\n"
          ]
        },
        {
          "output_type": "display_data",
          "data": {
            "text/plain": [
              "<Figure size 1000x600 with 1 Axes>"
            ],
            "image/png": "[encoded data removed]"
          },
          "metadata": {}
        }
      ]
    },
    {
      "cell_type": "code",
      "source": [
        "# Filter out rows where age is NaN or age code is not in years ('YR')\n",
        "df_demo_filtered = data['DEMO23Q4'][data['DEMO23Q4']['age'].notna() & (data['DEMO23Q4']['age_cod'] == 'YR')]\n",
        "\n",
        "plt.figure(figsize=(10, 6))\n",
        "plt.hist(df_demo_filtered['age'], bins=30, color='skyblue', edgecolor='black')\n",
        "plt.title('Distribution of Age in Reports')\n",
        "plt.xlabel('Age (Years)')\n",
        "plt.ylabel('Frequency')\n",
        "plt.show()\n"
      ],
      "metadata": {
        "colab": {
          "base_uri": "https://localhost:8080/",
          "height": 456
        },
        "id": "H08ufSHyu4Uy",
        "outputId": "80a8b03a-f050-4fc4-a3f6-31872f599c11"
      },
      "execution_count": 13,
      "outputs": [
        {
          "output_type": "display_data",
          "data": {
            "text/plain": [
              "<Figure size 1000x600 with 1 Axes>"
            ],
            "image/png": "[encoded data removed]"
          },
          "metadata": {}
        }
      ]
    },
    {
      "cell_type": "code",
      "source": [
        "indi_counts = data['INDI23Q4']['indi_pt'].value_counts().nlargest(10).reset_index()\n",
        "indi_counts.columns = ['Indication', 'Count']\n",
        "\n",
        "plt.figure(figsize=(12, 8))\n",
        "sns.barplot(x='Count', y='Indication', data=indi_counts, palette='coolwarm')\n",
        "plt.title('Top 10 Reported Indications for Drug Use')\n",
        "plt.xlabel('Number of Reports')\n",
        "plt.ylabel('Indication')\n",
        "plt.show()\n"
      ],
      "metadata": {
        "colab": {
          "base_uri": "https://localhost:8080/",
          "height": 520
        },
        "id": "Jnn-t1YBu828",
        "outputId": "d2f2235b-f408-4e26-f3ff-4701e205561d"
      },
      "execution_count": 14,
      "outputs": [
        {
          "output_type": "stream",
          "name": "stderr",
          "text": [
            "<ipython-input-14-eb584dce2af1>:5: FutureWarning: \n",
            "\n",
            "Passing `palette` without assigning `hue` is deprecated and will be removed in v0.14.0. Assign the `y` variable to `hue` and set `legend=False` for the same effect.\n",
            "\n",
            "  sns.barplot(x='Count', y='Indication', data=indi_counts, palette='coolwarm')\n"
          ]
        },
        {
          "output_type": "display_data",
          "data": {
            "text/plain": [
              "<Figure size 1200x800 with 1 Axes>"
            ],
            "image/png": "[encoded data removed]"
          },
          "metadata": {}
        }
      ]
    },
    {
      "cell_type": "code",
      "source": [
        "# Import necessary libraries\n",
        "import pandas as pd\n",
        "\n",
        "# Dictionary to store summary information\n",
        "summary = {}\n",
        "\n",
        "# Iterate over each DataFrame\n",
        "for df_name, df in data.items():\n",
        "    # Calculate summary statistics\n",
        "    summary_stats = df.describe(include='all')\n",
        "\n",
        "    # Add summary statistics to the dictionary\n",
        "    summary[df_name] = summary_stats\n",
        "\n",
        "# Display summary information\n",
        "for df_name, summary_stats in summary.items():\n",
        "    print(f\"Summary for DataFrame: {df_name}\")\n",
        "    print(summary_stats)\n",
        "    print(\"\\n------------------------------------\\n\")\n"
      ],
      "metadata": {
        "colab": {
          "base_uri": "https://localhost:8080/"
        },
        "id": "FICgFs1Awkyy",
        "outputId": "91f25578-b35e-4a45-cf14-e05889faff1d"
      },
      "execution_count": 15,
      "outputs": [
        {
          "output_type": "stream",
          "name": "stdout",
          "text": [
            "Summary for DataFrame: THER23Q3\n",
            "           primaryid        caseid   dsg_drug_seq      start_dt        end_dt  \\\n",
            "count   5.930270e+05  5.930270e+05  593027.000000  5.530550e+05  2.324460e+05   \n",
            "unique           NaN           NaN            NaN           NaN           NaN   \n",
            "top              NaN           NaN            NaN           NaN           NaN   \n",
            "freq             NaN           NaN            NaN           NaN           NaN   \n",
            "mean    4.176316e+08  2.164950e+07      10.374455  1.556357e+07  1.647621e+07   \n",
            "std     5.503152e+08  2.099399e+06      28.866741  8.467648e+06  7.816027e+06   \n",
            "min     4.081562e+07  4.081562e+06       1.000000  1.900000e+03  1.977000e+03   \n",
            "25%     2.219951e+08  2.133086e+07       1.000000  2.011092e+07  2.018021e+07   \n",
            "50%     2.274739e+08  2.267870e+07       3.000000  2.021091e+07  2.022051e+07   \n",
            "75%     2.290893e+08  2.282476e+07      10.000000  2.023021e+07  2.023051e+07   \n",
            "max     2.282719e+09  2.310338e+07    1262.000000  2.203072e+07  2.025073e+07   \n",
            "\n",
            "                  dur dur_cod  \n",
            "count   185737.000000  185763  \n",
            "unique            NaN       6  \n",
            "top               NaN     DAY  \n",
            "freq              NaN  163822  \n",
            "mean       166.360197     NaN  \n",
            "std       1276.368822     NaN  \n",
            "min          0.000000     NaN  \n",
            "25%          1.000000     NaN  \n",
            "50%          8.000000     NaN  \n",
            "75%         62.000000     NaN  \n",
            "max      99360.000000     NaN  \n",
            "\n",
            "------------------------------------\n",
            "\n",
            "Summary for DataFrame: DRUG23Q3\n",
            "           primaryid        caseid      drug_seq role_cod   drugname  \\\n",
            "count   1.768391e+06  1.768391e+06  1.768391e+06  1768389    1768391   \n",
            "unique           NaN           NaN           NaN        4      28254   \n",
            "top              NaN           NaN           NaN       SS  INFLECTRA   \n",
            "freq             NaN           NaN           NaN   694736      42089   \n",
            "mean    3.656163e+08  2.182675e+07  2.515160e+01      NaN        NaN   \n",
            "std     4.722898e+08  1.988444e+06  8.092258e+01      NaN        NaN   \n",
            "min     4.081562e+07  4.081562e+06  1.000000e+00      NaN        NaN   \n",
            "25%     2.234239e+08  2.181525e+07  2.000000e+00      NaN        NaN   \n",
            "50%     2.277280e+08  2.272334e+07  5.000000e+00      NaN        NaN   \n",
            "75%     2.291045e+08  2.286046e+07  1.300000e+01      NaN        NaN   \n",
            "max     2.282719e+09  2.310338e+07  1.447000e+03      NaN        NaN   \n",
            "\n",
            "                prod_ai       val_vbm    route dose_vbm  cum_dose_chr  \\\n",
            "count           1734486  1.768391e+06  1219428  1192784  3.661800e+04   \n",
            "unique             6428           NaN       64   210979           NaN   \n",
            "top     INFLIXIMAB-DYYB           NaN  Unknown      UNK           NaN   \n",
            "freq              42228           NaN   512224   382396           NaN   \n",
            "mean                NaN  1.012306e+00      NaN      NaN  4.603022e+04   \n",
            "std                 NaN  1.102457e-01      NaN      NaN  7.013238e+05   \n",
            "min                 NaN  1.000000e+00      NaN      NaN  1.000000e-02   \n",
            "25%                 NaN  1.000000e+00      NaN      NaN  1.200000e+02   \n",
            "50%                 NaN  1.000000e+00      NaN      NaN  8.400000e+02   \n",
            "75%                 NaN  1.000000e+00      NaN      NaN  6.748750e+03   \n",
            "max                 NaN  2.000000e+00      NaN      NaN  7.200000e+07   \n",
            "\n",
            "       cum_dose_unit  dechal  rechal  lot_num        exp_dt       nda_num  \\\n",
            "count          36618  962451  144952   367929  2.673000e+03  6.488780e+05   \n",
            "unique            24       4       4    44235           NaN           NaN   \n",
            "top               MG       U       U  Unknown           NaN           NaN   \n",
            "freq           30402  650672  129246    83691           NaN           NaN   \n",
            "mean             NaN     NaN     NaN      NaN  2.024518e+07  4.372385e+10   \n",
            "std              NaN     NaN     NaN      NaN  2.215577e+04  4.193673e+12   \n",
            "min              NaN     NaN     NaN      NaN  1.924071e+07  0.000000e+00   \n",
            "25%              NaN     NaN     NaN      NaN  2.024073e+07  7.726900e+04   \n",
            "50%              NaN     NaN     NaN      NaN  2.024123e+07  1.255440e+05   \n",
            "75%              NaN     NaN     NaN      NaN  2.025080e+07  2.090920e+05   \n",
            "max              NaN     NaN     NaN      NaN  2.028123e+07  5.019305e+14   \n",
            "\n",
            "            dose_amt dose_unit dose_form dose_freq  \n",
            "count   6.905100e+05    690510    876014    371374  \n",
            "unique           NaN        29      1242        36  \n",
            "top              NaN        MG    Tablet        QD  \n",
            "freq             NaN    580954    192792    196924  \n",
            "mean    4.613002e+02       NaN       NaN       NaN  \n",
            "std     5.353103e+04       NaN       NaN       NaN  \n",
            "min     0.000000e+00       NaN       NaN       NaN  \n",
            "25%     1.000000e+01       NaN       NaN       NaN  \n",
            "50%     5.000000e+01       NaN       NaN       NaN  \n",
            "75%     3.000000e+02       NaN       NaN       NaN  \n",
            "max     3.000000e+07       NaN       NaN       NaN  \n",
            "\n",
            "------------------------------------\n",
            "\n",
            "Summary for DataFrame: RPSR23Q3\n",
            "           primaryid        caseid rpsr_cod\n",
            "count   1.152400e+04  1.152400e+04    11524\n",
            "unique           NaN           NaN        3\n",
            "top              NaN           NaN       HP\n",
            "freq             NaN           NaN     7402\n",
            "mean    2.284142e+08  2.284142e+07      NaN\n",
            "std     1.014248e+06  1.014248e+05      NaN\n",
            "min     2.266425e+08  2.266425e+07      NaN\n",
            "25%     2.275267e+08  2.275267e+07      NaN\n",
            "50%     2.283814e+08  2.283814e+07      NaN\n",
            "75%     2.293549e+08  2.293549e+07      NaN\n",
            "max     2.302661e+08  2.302661e+07      NaN\n",
            "\n",
            "------------------------------------\n",
            "\n",
            "Summary for DataFrame: REAC23Q3\n",
            "           primaryid        caseid             pt drug_rec_act\n",
            "count   1.373338e+06  1.373338e+06        1373338         1331\n",
            "unique           NaN           NaN          12221          535\n",
            "top              NaN           NaN  Off label use    Diarrhoea\n",
            "freq             NaN           NaN          31547           34\n",
            "mean    3.450140e+08  2.195695e+07            NaN          NaN\n",
            "std     4.388858e+08  1.844142e+06            NaN          NaN\n",
            "min     4.081562e+07  4.081562e+06            NaN          NaN\n",
            "25%     2.238231e+08  2.203574e+07            NaN          NaN\n",
            "50%     2.276754e+08  2.272881e+07            NaN          NaN\n",
            "75%     2.290451e+08  2.286266e+07            NaN          NaN\n",
            "max     2.282719e+09  2.310338e+07            NaN          NaN\n",
            "\n",
            "------------------------------------\n",
            "\n",
            "Summary for DataFrame: INDI23Q3\n",
            "           primaryid        caseid  indi_drug_seq  \\\n",
            "count   1.063761e+06  1.063761e+06   1.063761e+06   \n",
            "unique           NaN           NaN            NaN   \n",
            "top              NaN           NaN            NaN   \n",
            "freq             NaN           NaN            NaN   \n",
            "mean    3.046985e+08  2.199620e+07   1.725283e+01   \n",
            "std     3.644954e+08  1.889285e+06   6.200114e+01   \n",
            "min     4.081562e+07  4.081562e+06   1.000000e+00   \n",
            "25%     2.253681e+08  2.221913e+07   1.000000e+00   \n",
            "50%     2.276521e+08  2.274125e+07   3.000000e+00   \n",
            "75%     2.289171e+08  2.286341e+07   9.000000e+00   \n",
            "max     2.282719e+09  2.310338e+07   1.447000e+03   \n",
            "\n",
            "                                    indi_pt  \n",
            "count                               1063761  \n",
            "unique                                 6697  \n",
            "top     Product used for unknown indication  \n",
            "freq                                 410402  \n",
            "mean                                    NaN  \n",
            "std                                     NaN  \n",
            "min                                     NaN  \n",
            "25%                                     NaN  \n",
            "50%                                     NaN  \n",
            "75%                                     NaN  \n",
            "max                                     NaN  \n",
            "\n",
            "------------------------------------\n",
            "\n",
            "Summary for DataFrame: OUTC23Q3\n",
            "           primaryid        caseid outc_cod\n",
            "count   3.073960e+05  3.073960e+05   307396\n",
            "unique           NaN           NaN        7\n",
            "top              NaN           NaN       OT\n",
            "freq             NaN           NaN   179671\n",
            "mean    2.705879e+08  2.229020e+07      NaN\n",
            "std     2.789414e+08  1.505296e+06      NaN\n",
            "min     4.081562e+07  4.081562e+06      NaN\n",
            "25%     2.267016e+08  2.264409e+07      NaN\n",
            "50%     2.279011e+08  2.277713e+07      NaN\n",
            "75%     2.290450e+08  2.289280e+07      NaN\n",
            "max     2.282719e+09  2.310338e+07      NaN\n",
            "\n",
            "------------------------------------\n",
            "\n",
            "Summary for DataFrame: DEMO23Q3\n",
            "           primaryid        caseid    caseversion i_f_code      event_dt  \\\n",
            "count   4.075220e+05  4.075220e+05  407522.000000   407522  1.731670e+05   \n",
            "unique           NaN           NaN            NaN        2           NaN   \n",
            "top              NaN           NaN            NaN        I           NaN   \n",
            "freq             NaN           NaN            NaN   275003           NaN   \n",
            "mean    2.501664e+08  2.246124e+07       1.832829      NaN  2.022075e+07   \n",
            "std     2.064074e+08  1.218684e+06       2.351441      NaN  5.866226e+04   \n",
            "min     4.081562e+07  4.081562e+06       1.000000      NaN  3.211101e+06   \n",
            "25%     2.268706e+08  2.268061e+07       1.000000      NaN  2.022080e+07   \n",
            "50%     2.279572e+08  2.278920e+07       1.000000      NaN  2.023033e+07   \n",
            "75%     2.290622e+08  2.289971e+07       2.000000      NaN  2.023071e+07   \n",
            "max     2.282719e+09  2.310338e+07      99.000000      NaN  2.031050e+07   \n",
            "\n",
            "              mfr_dt   init_fda_dt        fda_dt rept_cod  \\\n",
            "count   3.912240e+05  4.075220e+05  4.075220e+05   407522   \n",
            "unique           NaN           NaN           NaN        5   \n",
            "top              NaN           NaN           NaN      EXP   \n",
            "freq             NaN           NaN           NaN   231460   \n",
            "mean    2.023030e+07  2.022877e+07  2.023082e+07      NaN   \n",
            "std     4.265304e+03  7.871354e+03  8.131325e+01      NaN   \n",
            "min     1.983042e+07  2.004021e+07  2.023070e+07      NaN   \n",
            "25%     2.023071e+07  2.023071e+07  2.023073e+07      NaN   \n",
            "50%     2.023080e+07  2.023080e+07  2.023082e+07      NaN   \n",
            "75%     2.023083e+07  2.023090e+07  2.023091e+07      NaN   \n",
            "max     2.203092e+07  2.023093e+07  2.023093e+07      NaN   \n",
            "\n",
            "                       auth_num  ... age_grp     sex   e_sub            wt  \\\n",
            "count                     33304  ...  107093  340053  407522  66994.000000   \n",
            "unique                    28390  ...       6       3       2           NaN   \n",
            "top     FR-AFSSAPS-MA2023002001  ...       A       F       Y           NaN   \n",
            "freq                         11  ...   57536  197350  391224           NaN   \n",
            "mean                        NaN  ...     NaN     NaN     NaN     75.118381   \n",
            "std                         NaN  ...     NaN     NaN     NaN     45.588347   \n",
            "min                         NaN  ...     NaN     NaN     NaN      0.000000   \n",
            "25%                         NaN  ...     NaN     NaN     NaN     58.970000   \n",
            "50%                         NaN  ...     NaN     NaN     NaN     72.000000   \n",
            "75%                         NaN  ...     NaN     NaN     NaN     88.000000   \n",
            "max                         NaN  ...     NaN     NaN     NaN   7711.000000   \n",
            "\n",
            "       wt_cod       rept_dt to_mfr occp_cod  reporter_country occr_country  \n",
            "count   66994  4.075220e+05  15589   400430            407521       342363  \n",
            "unique      2           NaN      2        5               168          168  \n",
            "top        KG           NaN      N       CN                US           US  \n",
            "freq    66389           NaN  14688   201152            276164       222256  \n",
            "mean      NaN  2.023082e+07    NaN      NaN               NaN          NaN  \n",
            "std       NaN  2.067458e+02    NaN      NaN               NaN          NaN  \n",
            "min       NaN  2.018091e+07    NaN      NaN               NaN          NaN  \n",
            "25%       NaN  2.023073e+07    NaN      NaN               NaN          NaN  \n",
            "50%       NaN  2.023082e+07    NaN      NaN               NaN          NaN  \n",
            "75%       NaN  2.023091e+07    NaN      NaN               NaN          NaN  \n",
            "max       NaN  2.023100e+07    NaN      NaN               NaN          NaN  \n",
            "\n",
            "[11 rows x 25 columns]\n",
            "\n",
            "------------------------------------\n",
            "\n",
            "Summary for DataFrame: THER23Q4\n",
            "           primaryid        caseid   dsg_drug_seq      start_dt        end_dt  \\\n",
            "count   6.330870e+05  6.330870e+05  633087.000000  5.910030e+05  2.408430e+05   \n",
            "unique           NaN           NaN            NaN           NaN           NaN   \n",
            "top              NaN           NaN            NaN           NaN           NaN   \n",
            "freq             NaN           NaN            NaN           NaN           NaN   \n",
            "mean    4.465689e+08  2.199979e+07      11.162311  1.571517e+07  1.650069e+07   \n",
            "std     5.869609e+08  2.108944e+06      34.585186  8.370437e+06  7.798080e+06   \n",
            "min     4.150516e+07  4.150515e+06       1.000000  1.902000e+03  1.980000e+03   \n",
            "25%     2.274316e+08  2.169469e+07       1.000000  2.014023e+07  2.018090e+07   \n",
            "50%     2.310550e+08  2.303081e+07       3.000000  2.021120e+07  2.022091e+07   \n",
            "75%     2.327106e+08  2.318266e+07      10.000000  2.023051e+07  2.023081e+07   \n",
            "max     1.945447e+10  2.336998e+07    1220.000000  2.203062e+07  2.203103e+07   \n",
            "\n",
            "                  dur dur_cod  \n",
            "count   187237.000000  187230  \n",
            "unique            NaN       7  \n",
            "top               NaN     DAY  \n",
            "freq              NaN  167538  \n",
            "mean       151.258047     NaN  \n",
            "std       1212.473050     NaN  \n",
            "min          0.000000     NaN  \n",
            "25%          1.000000     NaN  \n",
            "50%          8.000000     NaN  \n",
            "75%         60.000000     NaN  \n",
            "max      99360.000000     NaN  \n",
            "\n",
            "------------------------------------\n",
            "\n",
            "Summary for DataFrame: RPSR23Q4\n",
            "           primaryid        caseid rpsr_cod\n",
            "count   1.323800e+04  1.323800e+04    13238\n",
            "unique           NaN           NaN        4\n",
            "top              NaN           NaN       HP\n",
            "freq             NaN           NaN     9961\n",
            "mean    2.319095e+08  2.319095e+07      NaN\n",
            "std     9.924399e+05  9.924399e+04      NaN\n",
            "min     2.301496e+08  2.301496e+07      NaN\n",
            "25%     2.310352e+08  2.310352e+07      NaN\n",
            "50%     2.318700e+08  2.318700e+07      NaN\n",
            "75%     2.328210e+08  2.328210e+07      NaN\n",
            "max     2.336998e+08  2.336998e+07      NaN\n",
            "\n",
            "------------------------------------\n",
            "\n",
            "Summary for DataFrame: DRUG23Q4\n",
            "           primaryid        caseid      drug_seq role_cod   drugname  \\\n",
            "count   1.920732e+06  1.920732e+06  1.920732e+06  1920732    1920732   \n",
            "unique           NaN           NaN           NaN        4      28452   \n",
            "top              NaN           NaN           NaN       SS  INFLECTRA   \n",
            "freq             NaN           NaN           NaN   805306      52311   \n",
            "mean    3.990670e+08  2.216682e+07  2.715715e+01      NaN        NaN   \n",
            "std     5.563054e+08  2.004616e+06  9.675775e+01      NaN        NaN   \n",
            "min     4.150516e+07  4.150515e+06  1.000000e+00      NaN        NaN   \n",
            "25%     2.287446e+08  2.212846e+07  2.000000e+00      NaN        NaN   \n",
            "50%     2.311921e+08  2.306522e+07  5.000000e+00      NaN        NaN   \n",
            "75%     2.326327e+08  2.320458e+07  1.400000e+01      NaN        NaN   \n",
            "max     1.945447e+10  2.336998e+07  2.663000e+03      NaN        NaN   \n",
            "\n",
            "                prod_ai       val_vbm    route dose_vbm  cum_dose_chr  \\\n",
            "count           1886740  1.920732e+06  1318098  1326625  4.267300e+04   \n",
            "unique             6524           NaN       67   223469           NaN   \n",
            "top     INFLIXIMAB-DYYB           NaN  Unknown      UNK           NaN   \n",
            "freq              52366           NaN   567689   436968           NaN   \n",
            "mean                NaN  1.010949e+00      NaN      NaN  4.934876e+04   \n",
            "std                 NaN  1.040629e-01      NaN      NaN  8.219853e+05   \n",
            "min                 NaN  1.000000e+00      NaN      NaN  1.000000e-02   \n",
            "25%                 NaN  1.000000e+00      NaN      NaN  1.080000e+02   \n",
            "50%                 NaN  1.000000e+00      NaN      NaN  8.620000e+02   \n",
            "75%                 NaN  1.000000e+00      NaN      NaN  6.000000e+03   \n",
            "max                 NaN  2.000000e+00      NaN      NaN  7.200000e+07   \n",
            "\n",
            "       cum_dose_unit   dechal  rechal  lot_num        exp_dt       nda_num  \\\n",
            "count          42673  1030346  155569   412122  2.749000e+03  7.108380e+05   \n",
            "unique            26        4       4    46938           NaN           NaN   \n",
            "top               MG        U       U  Unknown           NaN           NaN   \n",
            "freq           34323   688644  139594   101454           NaN           NaN   \n",
            "mean             NaN      NaN     NaN      NaN  2.024868e+07  6.296770e+10   \n",
            "std              NaN      NaN     NaN      NaN  1.761598e+04  5.367718e+12   \n",
            "min              NaN      NaN     NaN      NaN  2.013083e+07  0.000000e+00   \n",
            "25%              NaN      NaN     NaN      NaN  2.024103e+07  7.726600e+04   \n",
            "50%              NaN      NaN     NaN      NaN  2.025040e+07  1.255440e+05   \n",
            "75%              NaN      NaN     NaN      NaN  2.025103e+07  2.099390e+05   \n",
            "max              NaN      NaN     NaN      NaN  2.100010e+07  5.019305e+14   \n",
            "\n",
            "            dose_amt dose_unit dose_form dose_freq  \n",
            "count   7.561290e+05    756129    965274    410539  \n",
            "unique           NaN        30      1250        34  \n",
            "top              NaN        MG    Tablet        QD  \n",
            "freq             NaN    640442    204929    210405  \n",
            "mean    6.630056e+02       NaN       NaN       NaN  \n",
            "std     1.036767e+05       NaN       NaN       NaN  \n",
            "min     0.000000e+00       NaN       NaN       NaN  \n",
            "25%     1.000000e+01       NaN       NaN       NaN  \n",
            "50%     5.000000e+01       NaN       NaN       NaN  \n",
            "75%     3.000000e+02       NaN       NaN       NaN  \n",
            "max     4.800000e+07       NaN       NaN       NaN  \n",
            "\n",
            "------------------------------------\n",
            "\n",
            "Summary for DataFrame: REAC23Q4\n",
            "           primaryid        caseid             pt drug_rec_act\n",
            "count   1.500033e+06  1.500033e+06        1500033         1166\n",
            "unique           NaN           NaN          12539          475\n",
            "top              NaN           NaN  Off label use     Headache\n",
            "freq             NaN           NaN          33165           27\n",
            "mean    3.858820e+08  2.225287e+07            NaN          NaN\n",
            "std     5.172588e+08  1.921854e+06            NaN          NaN\n",
            "min     4.150516e+07  4.150515e+06            NaN          NaN\n",
            "25%     2.287732e+08  2.226935e+07            NaN          NaN\n",
            "50%     2.311735e+08  2.306873e+07            NaN          NaN\n",
            "75%     2.325977e+08  2.320543e+07            NaN          NaN\n",
            "max     1.945447e+10  2.336998e+07            NaN          NaN\n",
            "\n",
            "------------------------------------\n",
            "\n",
            "Summary for DataFrame: OUTC23Q4\n",
            "           primaryid        caseid outc_cod\n",
            "count   3.277970e+05  3.277970e+05   327797\n",
            "unique           NaN           NaN        7\n",
            "top              NaN           NaN       OT\n",
            "freq             NaN           NaN   186526\n",
            "mean    2.848876e+08  2.266043e+07      NaN\n",
            "std     3.143139e+08  1.472299e+06      NaN\n",
            "min     4.150516e+07  4.150515e+06      NaN\n",
            "25%     2.302389e+08  2.298796e+07      NaN\n",
            "50%     2.313289e+08  2.311841e+07      NaN\n",
            "75%     2.324870e+08  2.323333e+07      NaN\n",
            "max     1.945447e+10  2.336095e+07      NaN\n",
            "\n",
            "------------------------------------\n",
            "\n",
            "Summary for DataFrame: INDI23Q4\n",
            "           primaryid        caseid  indi_drug_seq  \\\n",
            "count   1.115961e+06  1.115961e+06   1.115961e+06   \n",
            "unique           NaN           NaN            NaN   \n",
            "top              NaN           NaN            NaN   \n",
            "freq             NaN           NaN            NaN   \n",
            "mean    3.222442e+08  2.239922e+07   2.180877e+01   \n",
            "std     4.033654e+08  1.832343e+06   1.003096e+02   \n",
            "min     4.150516e+07  4.150515e+06   1.000000e+00   \n",
            "25%     2.293625e+08  2.272905e+07   1.000000e+00   \n",
            "50%     2.312389e+08  2.309243e+07   3.000000e+00   \n",
            "75%     2.325489e+08  2.322517e+07   1.000000e+01   \n",
            "max     1.945447e+10  2.336998e+07   2.663000e+03   \n",
            "\n",
            "                                    indi_pt  \n",
            "count                               1115961  \n",
            "unique                                 6732  \n",
            "top     Product used for unknown indication  \n",
            "freq                                 438129  \n",
            "mean                                    NaN  \n",
            "std                                     NaN  \n",
            "min                                     NaN  \n",
            "25%                                     NaN  \n",
            "50%                                     NaN  \n",
            "75%                                     NaN  \n",
            "max                                     NaN  \n",
            "\n",
            "------------------------------------\n",
            "\n",
            "Summary for DataFrame: DEMO23Q4\n",
            "           primaryid        caseid    caseversion i_f_code      event_dt  \\\n",
            "count   4.153790e+05  4.153790e+05  415379.000000   415379  1.845500e+05   \n",
            "unique           NaN           NaN            NaN        2           NaN   \n",
            "top              NaN           NaN            NaN        I           NaN   \n",
            "freq             NaN           NaN            NaN   276224           NaN   \n",
            "mean    2.605085e+08  2.281569e+07       1.944494      NaN  2.022235e+07   \n",
            "std     2.356498e+08  1.204200e+06       2.767720      NaN  3.337437e+04   \n",
            "min     4.150516e+07  4.150515e+06       1.000000      NaN  1.012111e+07   \n",
            "25%     2.303614e+08  2.302808e+07       1.000000      NaN  2.022112e+07   \n",
            "50%     2.314368e+08  2.313562e+07       1.000000      NaN  2.023061e+07   \n",
            "75%     2.325196e+08  2.324386e+07       2.000000      NaN  2.023100e+07   \n",
            "max     1.945447e+10  2.336998e+07     104.000000      NaN  2.032010e+07   \n",
            "\n",
            "              mfr_dt   init_fda_dt        fda_dt rept_cod  \\\n",
            "count   4.047300e+05  4.153790e+05  4.153790e+05   415379   \n",
            "unique           NaN           NaN           NaN        5   \n",
            "top              NaN           NaN           NaN      EXP   \n",
            "freq             NaN           NaN           NaN   243596   \n",
            "mean    2.023073e+07  2.022936e+07  2.023112e+07      NaN   \n",
            "std     3.016130e+03  7.331084e+03  8.175119e+01      NaN   \n",
            "min     2.000022e+07  2.004061e+07  2.023092e+07      NaN   \n",
            "25%     2.023101e+07  2.023100e+07  2.023102e+07      NaN   \n",
            "50%     2.023110e+07  2.023110e+07  2.023112e+07      NaN   \n",
            "75%     2.023113e+07  2.023113e+07  2.023121e+07      NaN   \n",
            "max     2.023123e+07  2.023123e+07  2.023123e+07      NaN   \n",
            "\n",
            "                                    auth_num  ... age_grp     sex   e_sub  \\\n",
            "count                                  34655  ...  110748  348402  415379   \n",
            "unique                                 29079  ...       6       3       2   \n",
            "top     GB-MHRA-MED-202310111516500400-JRCDY  ...       A       F       Y   \n",
            "freq                                      15  ...   58470  202908  399646   \n",
            "mean                                     NaN  ...     NaN     NaN     NaN   \n",
            "std                                      NaN  ...     NaN     NaN     NaN   \n",
            "min                                      NaN  ...     NaN     NaN     NaN   \n",
            "25%                                      NaN  ...     NaN     NaN     NaN   \n",
            "50%                                      NaN  ...     NaN     NaN     NaN   \n",
            "75%                                      NaN  ...     NaN     NaN     NaN   \n",
            "max                                      NaN  ...     NaN     NaN     NaN   \n",
            "\n",
            "                  wt wt_cod       rept_dt to_mfr occp_cod  reporter_country  \\\n",
            "count   67880.000000  67880  4.153790e+05  15375   409435            415378   \n",
            "unique           NaN      2           NaN      2        5               171   \n",
            "top              NaN     KG           NaN      N       CN                US   \n",
            "freq             NaN  67159           NaN  14379   199144            273540   \n",
            "mean       75.798758    NaN  2.023111e+07    NaN      NaN               NaN   \n",
            "std       337.305432    NaN  7.666639e+02    NaN      NaN               NaN   \n",
            "min         0.000000    NaN  1.980110e+07    NaN      NaN               NaN   \n",
            "25%        58.090000    NaN  2.023102e+07    NaN      NaN               NaN   \n",
            "50%        71.210000    NaN  2.023112e+07    NaN      NaN               NaN   \n",
            "75%        87.180000    NaN  2.023121e+07    NaN      NaN               NaN   \n",
            "max     87075.000000    NaN  2.024010e+07    NaN      NaN               NaN   \n",
            "\n",
            "       occr_country  \n",
            "count        362902  \n",
            "unique          162  \n",
            "top              US  \n",
            "freq         232882  \n",
            "mean            NaN  \n",
            "std             NaN  \n",
            "min             NaN  \n",
            "25%             NaN  \n",
            "50%             NaN  \n",
            "75%             NaN  \n",
            "max             NaN  \n",
            "\n",
            "[11 rows x 25 columns]\n",
            "\n",
            "------------------------------------\n",
            "\n"
          ]
        }
      ]
    },
    {
      "cell_type": "code",
      "source": [
        "# Display basic information about the DataFrame\n",
        "print(\"DataFrame Info:\")\n",
        "print(df.info())\n",
        "\n",
        "# Display the first few rows of the DataFrame\n",
        "print(\"\\nFirst few rows of the DataFrame:\")\n",
        "print(df.head())\n",
        "\n",
        "# Display summary statistics of the DataFrame\n",
        "print(\"\\nSummary statistics of the DataFrame:\")\n",
        "print(df.describe())\n"
      ],
      "metadata": {
        "colab": {
          "base_uri": "https://localhost:8080/"
        },
        "id": "hhL05S5gxD-S",
        "outputId": "153422ac-7046-4e07-db9e-742182c55162"
      },
      "execution_count": 16,
      "outputs": [
        {
          "output_type": "stream",
          "name": "stdout",
          "text": [
            "DataFrame Info:\n",
            "<class 'pandas.core.frame.DataFrame'>\n",
            "RangeIndex: 415379 entries, 0 to 415378\n",
            "Data columns (total 25 columns):\n",
            " #   Column            Non-Null Count   Dtype  \n",
            "---  ------            --------------   -----  \n",
            " 0   primaryid         415379 non-null  int64  \n",
            " 1   caseid            415379 non-null  int64  \n",
            " 2   caseversion       415379 non-null  int64  \n",
            " 3   i_f_code          415379 non-null  object \n",
            " 4   event_dt          184550 non-null  float64\n",
            " 5   mfr_dt            404730 non-null  float64\n",
            " 6   init_fda_dt       415379 non-null  int64  \n",
            " 7   fda_dt            415379 non-null  int64  \n",
            " 8   rept_cod          415379 non-null  object \n",
            " 9   auth_num          34655 non-null   object \n",
            " 10  mfr_num           399647 non-null  object \n",
            " 11  mfr_sndr          415379 non-null  object \n",
            " 12  lit_ref           30970 non-null   object \n",
            " 13  age               231514 non-null  float64\n",
            " 14  age_cod           231524 non-null  object \n",
            " 15  age_grp           110748 non-null  object \n",
            " 16  sex               348402 non-null  object \n",
            " 17  e_sub             415379 non-null  object \n",
            " 18  wt                67880 non-null   float64\n",
            " 19  wt_cod            67880 non-null   object \n",
            " 20  rept_dt           415379 non-null  int64  \n",
            " 21  to_mfr            15375 non-null   object \n",
            " 22  occp_cod          409435 non-null  object \n",
            " 23  reporter_country  415378 non-null  object \n",
            " 24  occr_country      362902 non-null  object \n",
            "dtypes: float64(4), int64(6), object(15)\n",
            "memory usage: 79.2+ MB\n",
            "None\n",
            "\n",
            "First few rows of the DataFrame:\n",
            "    primaryid    caseid  caseversion i_f_code    event_dt      mfr_dt  \\\n",
            "0   100144838  10014483            8        F         NaN  20231123.0   \n",
            "1  1001678124  10016781           24        F  20120330.0  20231130.0   \n",
            "2  1002130539  10021305           39        F  20210415.0  20230523.0   \n",
            "3   100293662  10029366            2        F         NaN  20231108.0   \n",
            "4   100356167  10035616            7        F  20140321.0  20230928.0   \n",
            "\n",
            "   init_fda_dt    fda_dt rept_cod auth_num  ... age_grp  sex e_sub    wt  \\\n",
            "0     20140317  20231205      EXP      NaN  ...     NaN  NaN     Y   NaN   \n",
            "1     20140318  20231211      EXP      NaN  ...     NaN    F     Y   NaN   \n",
            "2     20140319  20231130      EXP      NaN  ...       A    M     Y   NaN   \n",
            "3     20140322  20231115      EXP      NaN  ...     NaN    M     Y   NaN   \n",
            "4     20140325  20231002      EXP      NaN  ...       E    F     Y  50.0   \n",
            "\n",
            "  wt_cod   rept_dt to_mfr occp_cod  reporter_country occr_country  \n",
            "0    NaN  20231205    NaN       HP                CA           CA  \n",
            "1    NaN  20231211    NaN       HP                CA           CA  \n",
            "2    NaN  20231130    NaN       HP                CA           CA  \n",
            "3    NaN  20231115    NaN       HP                AU           AU  \n",
            "4     KG  20231002    NaN       MD                JP           JP  \n",
            "\n",
            "[5 rows x 25 columns]\n",
            "\n",
            "Summary statistics of the DataFrame:\n",
            "          primaryid        caseid    caseversion      event_dt        mfr_dt  \\\n",
            "count  4.153790e+05  4.153790e+05  415379.000000  1.845500e+05  4.047300e+05   \n",
            "mean   2.605085e+08  2.281569e+07       1.944494  2.022235e+07  2.023073e+07   \n",
            "std    2.356498e+08  1.204200e+06       2.767720  3.337437e+04  3.016130e+03   \n",
            "min    4.150516e+07  4.150515e+06       1.000000  1.012111e+07  2.000022e+07   \n",
            "25%    2.303614e+08  2.302808e+07       1.000000  2.022112e+07  2.023101e+07   \n",
            "50%    2.314368e+08  2.313562e+07       1.000000  2.023061e+07  2.023110e+07   \n",
            "75%    2.325196e+08  2.324386e+07       2.000000  2.023100e+07  2.023113e+07   \n",
            "max    1.945447e+10  2.336998e+07     104.000000  2.032010e+07  2.023123e+07   \n",
            "\n",
            "        init_fda_dt        fda_dt            age            wt       rept_dt  \n",
            "count  4.153790e+05  4.153790e+05  231514.000000  67880.000000  4.153790e+05  \n",
            "mean   2.022936e+07  2.023112e+07     208.959372     75.798758  2.023111e+07  \n",
            "std    7.331084e+03  8.175119e+01    1974.121178    337.305432  7.666639e+02  \n",
            "min    2.004061e+07  2.023092e+07       0.000000      0.000000  1.980110e+07  \n",
            "25%    2.023100e+07  2.023102e+07      41.000000     58.090000  2.023102e+07  \n",
            "50%    2.023110e+07  2.023112e+07      60.000000     71.210000  2.023112e+07  \n",
            "75%    2.023113e+07  2.023121e+07      72.000000     87.180000  2.023121e+07  \n",
            "max    2.023123e+07  2.023123e+07   36525.000000  87075.000000  2.024010e+07  \n"
          ]
        }
      ]
    },
    {
      "cell_type": "code",
      "source": [
        "import pandas as pd\n",
        "import matplotlib.pyplot as plt\n",
        "import seaborn as sns\n",
        "\n",
        "# Load the DataFrame\n",
        "# Replace 'df' with the name of your DataFrame\n",
        "# df = pd.read_csv(\"your_data.csv\")\n",
        "\n",
        "# Summary Statistics\n",
        "summary_stats = df.describe()\n",
        "print(\"Summary Statistics:\")\n",
        "print(summary_stats)\n",
        "\n",
        "# Univariate Analysis\n",
        "# Histogram of age distribution\n",
        "plt.figure(figsize=(8, 6))\n",
        "sns.histplot(df['age'].dropna(), kde=True, bins=30, color='skyblue')\n",
        "plt.title('Age Distribution')\n",
        "plt.xlabel('Age')\n",
        "plt.ylabel('Frequency')\n",
        "plt.show()\n",
        "\n",
        "# Bar plot of sex distribution\n",
        "plt.figure(figsize=(8, 6))\n",
        "sns.countplot(data=df, x='sex')\n",
        "plt.title('Distribution of Sex')\n",
        "plt.xlabel('Sex')\n",
        "plt.ylabel('Count')\n",
        "plt.show()\n",
        "\n",
        "# Missing Values Analysis\n",
        "missing_values = df.isnull().mean() * 100\n",
        "print(\"Missing Values Percentage:\")\n",
        "print(missing_values)\n",
        "\n",
        "# Bivariate Analysis\n",
        "# Scatter plot of age vs. weight\n",
        "plt.figure(figsize=(8, 6))\n",
        "sns.scatterplot(data=df, x='age', y='wt', alpha=0.5)\n",
        "plt.title('Age vs. Weight')\n",
        "plt.xlabel('Age')\n",
        "plt.ylabel('Weight')\n",
        "plt.show()\n",
        "\n",
        "# Box plot of age by sex\n",
        "plt.figure(figsize=(8, 6))\n",
        "sns.boxplot(data=df, x='sex', y='age')\n",
        "plt.title('Age Distribution by Sex')\n",
        "plt.xlabel('Sex')\n"
      ],
      "metadata": {
        "colab": {
          "base_uri": "https://localhost:8080/",
          "height": 1000
        },
        "id": "I2PDE8Umxpxe",
        "outputId": "79ab1acc-7bcd-4918-9f0e-4e4dbaa5e2f9"
      },
      "execution_count": 17,
      "outputs": [
        {
          "output_type": "stream",
          "name": "stdout",
          "text": [
            "Summary Statistics:\n",
            "          primaryid        caseid    caseversion      event_dt        mfr_dt  \\\n",
            "count  4.153790e+05  4.153790e+05  415379.000000  1.845500e+05  4.047300e+05   \n",
            "mean   2.605085e+08  2.281569e+07       1.944494  2.022235e+07  2.023073e+07   \n",
            "std    2.356498e+08  1.204200e+06       2.767720  3.337437e+04  3.016130e+03   \n",
            "min    4.150516e+07  4.150515e+06       1.000000  1.012111e+07  2.000022e+07   \n",
            "25%    2.303614e+08  2.302808e+07       1.000000  2.022112e+07  2.023101e+07   \n",
            "50%    2.314368e+08  2.313562e+07       1.000000  2.023061e+07  2.023110e+07   \n",
            "75%    2.325196e+08  2.324386e+07       2.000000  2.023100e+07  2.023113e+07   \n",
            "max    1.945447e+10  2.336998e+07     104.000000  2.032010e+07  2.023123e+07   \n",
            "\n",
            "        init_fda_dt        fda_dt            age            wt       rept_dt  \n",
            "count  4.153790e+05  4.153790e+05  231514.000000  67880.000000  4.153790e+05  \n",
            "mean   2.022936e+07  2.023112e+07     208.959372     75.798758  2.023111e+07  \n",
            "std    7.331084e+03  8.175119e+01    1974.121178    337.305432  7.666639e+02  \n",
            "min    2.004061e+07  2.023092e+07       0.000000      0.000000  1.980110e+07  \n",
            "25%    2.023100e+07  2.023102e+07      41.000000     58.090000  2.023102e+07  \n",
            "50%    2.023110e+07  2.023112e+07      60.000000     71.210000  2.023112e+07  \n",
            "75%    2.023113e+07  2.023121e+07      72.000000     87.180000  2.023121e+07  \n",
            "max    2.023123e+07  2.023123e+07   36525.000000  87075.000000  2.024010e+07  \n"
          ]
        },
        {
          "output_type": "display_data",
          "data": {
            "text/plain": [
              "<Figure size 800x600 with 1 Axes>"
            ],
            "image/png": "[encoded data removed]"
          },
          "metadata": {}
        },
        {
          "output_type": "display_data",
          "data": {
            "text/plain": [
              "<Figure size 800x600 with 1 Axes>"
            ],
            "image/png": "[encoded data removed]"
          },
          "metadata": {}
        },
        {
          "output_type": "stream",
          "name": "stdout",
          "text": [
            "Missing Values Percentage:\n",
            "primaryid            0.000000\n",
            "caseid               0.000000\n",
            "caseversion          0.000000\n",
            "i_f_code             0.000000\n",
            "event_dt            55.570696\n",
            "mfr_dt               2.563683\n",
            "init_fda_dt          0.000000\n",
            "fda_dt               0.000000\n",
            "rept_cod             0.000000\n",
            "auth_num            91.657017\n",
            "mfr_num              3.787385\n",
            "mfr_sndr             0.000000\n",
            "lit_ref             92.544158\n",
            "age                 44.264395\n",
            "age_cod             44.261987\n",
            "age_grp             73.338084\n",
            "sex                 16.124311\n",
            "e_sub                0.000000\n",
            "wt                  83.658298\n",
            "wt_cod              83.658298\n",
            "rept_dt              0.000000\n",
            "to_mfr              96.298561\n",
            "occp_cod             1.430982\n",
            "reporter_country     0.000241\n",
            "occr_country        12.633523\n",
            "dtype: float64\n"
          ]
        },
        {
          "output_type": "display_data",
          "data": {
            "text/plain": [
              "<Figure size 800x600 with 1 Axes>"
            ],
            "image/png": "[encoded data removed]"
          },
          "metadata": {}
        },
        {
          "output_type": "execute_result",
          "data": {
            "text/plain": [
              "Text(0.5, 0, 'Sex')"
            ]
          },
          "metadata": {},
          "execution_count": 17
        },
        {
          "output_type": "display_data",
          "data": {
            "text/plain": [
              "<Figure size 800x600 with 1 Axes>"
            ],
            "image/png": "[encoded data removed]"
          },
          "metadata": {}
        }
      ]
    },
    {
      "cell_type": "code",
      "source": [
        "print(df.columns)\n"
      ],
      "metadata": {
        "colab": {
          "base_uri": "https://localhost:8080/"
        },
        "id": "jKHe53lLyNJT",
        "outputId": "071a012b-21f5-4241-a3d8-c494b82f8a17"
      },
      "execution_count": 18,
      "outputs": [
        {
          "output_type": "stream",
          "name": "stdout",
          "text": [
            "Index(['primaryid', 'caseid', 'caseversion', 'i_f_code', 'event_dt', 'mfr_dt',\n",
            "       'init_fda_dt', 'fda_dt', 'rept_cod', 'auth_num', 'mfr_num', 'mfr_sndr',\n",
            "       'lit_ref', 'age', 'age_cod', 'age_grp', 'sex', 'e_sub', 'wt', 'wt_cod',\n",
            "       'rept_dt', 'to_mfr', 'occp_cod', 'reporter_country', 'occr_country'],\n",
            "      dtype='object')\n"
          ]
        }
      ]
    },
    {
      "cell_type": "code",
      "source": [
        "print(df.head())\n"
      ],
      "metadata": {
        "colab": {
          "base_uri": "https://localhost:8080/"
        },
        "id": "RNIY0Up1yP-K",
        "outputId": "de12d484-341f-4c04-bd12-525cc4ecef1f"
      },
      "execution_count": 19,
      "outputs": [
        {
          "output_type": "stream",
          "name": "stdout",
          "text": [
            "    primaryid    caseid  caseversion i_f_code    event_dt      mfr_dt  \\\n",
            "0   100144838  10014483            8        F         NaN  20231123.0   \n",
            "1  1001678124  10016781           24        F  20120330.0  20231130.0   \n",
            "2  1002130539  10021305           39        F  20210415.0  20230523.0   \n",
            "3   100293662  10029366            2        F         NaN  20231108.0   \n",
            "4   100356167  10035616            7        F  20140321.0  20230928.0   \n",
            "\n",
            "   init_fda_dt    fda_dt rept_cod auth_num  ... age_grp  sex e_sub    wt  \\\n",
            "0     20140317  20231205      EXP      NaN  ...     NaN  NaN     Y   NaN   \n",
            "1     20140318  20231211      EXP      NaN  ...     NaN    F     Y   NaN   \n",
            "2     20140319  20231130      EXP      NaN  ...       A    M     Y   NaN   \n",
            "3     20140322  20231115      EXP      NaN  ...     NaN    M     Y   NaN   \n",
            "4     20140325  20231002      EXP      NaN  ...       E    F     Y  50.0   \n",
            "\n",
            "  wt_cod   rept_dt to_mfr occp_cod  reporter_country occr_country  \n",
            "0    NaN  20231205    NaN       HP                CA           CA  \n",
            "1    NaN  20231211    NaN       HP                CA           CA  \n",
            "2    NaN  20231130    NaN       HP                CA           CA  \n",
            "3    NaN  20231115    NaN       HP                AU           AU  \n",
            "4     KG  20231002    NaN       MD                JP           JP  \n",
            "\n",
            "[5 rows x 25 columns]\n"
          ]
        }
      ]
    },
    {
      "cell_type": "code",
      "source": [
        "import pandas as pd\n",
        "import matplotlib.pyplot as plt\n",
        "\n",
        "# Assuming df is your DataFrame containing the adverse event data\n",
        "\n",
        "# Grouping the data by country and age group, and counting the number of events\n",
        "grouped_data = df.groupby(['reporter_country', 'age_grp']).size().reset_index(name='count')\n",
        "\n",
        "# Sorting the data by count in descending order\n",
        "sorted_data = grouped_data.sort_values(by='count', ascending=False)\n",
        "\n",
        "# Selecting the top N countries with the most reported events\n",
        "top_countries = sorted_data['reporter_country'].unique()[:5]  # Change 5 to the desired number of countries\n",
        "\n",
        "# Filtering the data to include only the top countries\n",
        "filtered_data = sorted_data[sorted_data['reporter_country'].isin(top_countries)]\n",
        "\n",
        "# Creating a bar plot\n",
        "plt.figure(figsize=(12, 8))\n",
        "for country in top_countries:\n",
        "    country_data = filtered_data[filtered_data['reporter_country'] == country]\n",
        "    plt.bar(country_data['age_grp'], country_data['count'], label=country)\n",
        "\n",
        "plt.xlabel('Age Group')\n",
        "plt.ylabel('Number of Adverse Events')\n",
        "plt.title('Top Countries with Most Reported Adverse Events by Age Group')\n",
        "plt.legend()\n",
        "plt.xticks(rotation=45)\n",
        "plt.tight_layout()\n",
        "plt.show()\n"
      ],
      "metadata": {
        "colab": {
          "base_uri": "https://localhost:8080/",
          "height": 480
        },
        "id": "MSdqogvWzuDc",
        "outputId": "eb97deee-3d18-44ce-95ef-ac41dda6247f"
      },
      "execution_count": 20,
      "outputs": [
        {
          "output_type": "display_data",
          "data": {
            "text/plain": [
              "<Figure size 1200x800 with 1 Axes>"
            ],
            "image/png": "[encoded data removed]"
          },
          "metadata": {}
        }
      ]
    },
    {
      "cell_type": "code",
      "source": [
        "import pandas as pd\n",
        "import matplotlib.pyplot as plt\n",
        "import seaborn as sns\n",
        "\n",
        "# Assuming df is your DataFrame containing the adverse event data\n",
        "\n",
        "# Grouping the data by age group and gender, and counting the number of events\n",
        "grouped_data = df.groupby(['age_grp', 'sex']).size().reset_index(name='count')\n",
        "\n",
        "# Plotting the distribution of adverse events by age group and gender\n",
        "plt.figure(figsize=(12, 8))\n",
        "sns.barplot(x='age_grp', y='count', hue='sex', data=grouped_data)\n",
        "plt.xlabel('Age Group')\n",
        "plt.ylabel('Number of Adverse Events')\n",
        "plt.title('Distribution of Adverse Events by Age Group and Gender')\n",
        "plt.xticks(rotation=45)\n",
        "plt.tight_layout()\n",
        "plt.legend(title='Gender')\n",
        "plt.show()\n"
      ],
      "metadata": {
        "id": "Qom6N9XP05T2",
        "outputId": "9259efc7-8def-4e52-ae78-62396a8f53d6",
        "colab": {
          "base_uri": "https://localhost:8080/",
          "height": 480
        }
      },
      "execution_count": 21,
      "outputs": [
        {
          "output_type": "display_data",
          "data": {
            "text/plain": [
              "<Figure size 1200x800 with 1 Axes>"
            ],
            "image/png": "[encoded data removed]"
          },
          "metadata": {}
        }
      ]
    },
    {
      "cell_type": "code",
      "source": [
        "print(data.keys())\n"
      ],
      "metadata": {
        "colab": {
          "base_uri": "https://localhost:8080/"
        },
        "id": "Qy1lg-wpkAi0",
        "outputId": "bdfd1c31-ce27-4d69-c7b6-eb4f0c5c663d"
      },
      "execution_count": 22,
      "outputs": [
        {
          "output_type": "stream",
          "name": "stdout",
          "text": [
            "dict_keys(['THER23Q3', 'DRUG23Q3', 'RPSR23Q3', 'REAC23Q3', 'INDI23Q3', 'OUTC23Q3', 'DEMO23Q3', 'THER23Q4', 'RPSR23Q4', 'DRUG23Q4', 'REAC23Q4', 'OUTC23Q4', 'INDI23Q4', 'DEMO23Q4'])\n"
          ]
        }
      ]
    },
    {
      "cell_type": "code",
      "source": [
        "# Extracting relevant DataFrames\n",
        "drug_df = data['DRUG23Q4']\n",
        "outcome_df = data['OUTC23Q4']\n",
        "adverse_reaction_df = data['REAC23Q4']\n",
        "demographic_df = data['DEMO23Q4']\n"
      ],
      "metadata": {
        "id": "mKxQBz5fkI8_"
      },
      "execution_count": 23,
      "outputs": []
    },
    {
      "cell_type": "code",
      "source": [
        "# Check the column names in each DataFrame to identify the relevant columns\n",
        "for df_name, df in data.items():\n",
        "    print(f\"DataFrame Name: {df_name}\")\n",
        "    print(f\"Columns: {df.columns.tolist()}\")\n",
        "    print(\"\\n------------------------------------\\n\")\n"
      ],
      "metadata": {
        "colab": {
          "base_uri": "https://localhost:8080/"
        },
        "id": "ABnhVnqfkeb8",
        "outputId": "837a9f3e-201b-45e4-c15a-eae664e6ac0e"
      },
      "execution_count": 24,
      "outputs": [
        {
          "output_type": "stream",
          "name": "stdout",
          "text": [
            "DataFrame Name: THER23Q3\n",
            "Columns: ['primaryid', 'caseid', 'dsg_drug_seq', 'start_dt', 'end_dt', 'dur', 'dur_cod']\n",
            "\n",
            "------------------------------------\n",
            "\n",
            "DataFrame Name: DRUG23Q3\n",
            "Columns: ['primaryid', 'caseid', 'drug_seq', 'role_cod', 'drugname', 'prod_ai', 'val_vbm', 'route', 'dose_vbm', 'cum_dose_chr', 'cum_dose_unit', 'dechal', 'rechal', 'lot_num', 'exp_dt', 'nda_num', 'dose_amt', 'dose_unit', 'dose_form', 'dose_freq']\n",
            "\n",
            "------------------------------------\n",
            "\n",
            "DataFrame Name: RPSR23Q3\n",
            "Columns: ['primaryid', 'caseid', 'rpsr_cod']\n",
            "\n",
            "------------------------------------\n",
            "\n",
            "DataFrame Name: REAC23Q3\n",
            "Columns: ['primaryid', 'caseid', 'pt', 'drug_rec_act']\n",
            "\n",
            "------------------------------------\n",
            "\n",
            "DataFrame Name: INDI23Q3\n",
            "Columns: ['primaryid', 'caseid', 'indi_drug_seq', 'indi_pt']\n",
            "\n",
            "------------------------------------\n",
            "\n",
            "DataFrame Name: OUTC23Q3\n",
            "Columns: ['primaryid', 'caseid', 'outc_cod']\n",
            "\n",
            "------------------------------------\n",
            "\n",
            "DataFrame Name: DEMO23Q3\n",
            "Columns: ['primaryid', 'caseid', 'caseversion', 'i_f_code', 'event_dt', 'mfr_dt', 'init_fda_dt', 'fda_dt', 'rept_cod', 'auth_num', 'mfr_num', 'mfr_sndr', 'lit_ref', 'age', 'age_cod', 'age_grp', 'sex', 'e_sub', 'wt', 'wt_cod', 'rept_dt', 'to_mfr', 'occp_cod', 'reporter_country', 'occr_country']\n",
            "\n",
            "------------------------------------\n",
            "\n",
            "DataFrame Name: THER23Q4\n",
            "Columns: ['primaryid', 'caseid', 'dsg_drug_seq', 'start_dt', 'end_dt', 'dur', 'dur_cod']\n",
            "\n",
            "------------------------------------\n",
            "\n",
            "DataFrame Name: RPSR23Q4\n",
            "Columns: ['primaryid', 'caseid', 'rpsr_cod']\n",
            "\n",
            "------------------------------------\n",
            "\n",
            "DataFrame Name: DRUG23Q4\n",
            "Columns: ['primaryid', 'caseid', 'drug_seq', 'role_cod', 'drugname', 'prod_ai', 'val_vbm', 'route', 'dose_vbm', 'cum_dose_chr', 'cum_dose_unit', 'dechal', 'rechal', 'lot_num', 'exp_dt', 'nda_num', 'dose_amt', 'dose_unit', 'dose_form', 'dose_freq']\n",
            "\n",
            "------------------------------------\n",
            "\n",
            "DataFrame Name: REAC23Q4\n",
            "Columns: ['primaryid', 'caseid', 'pt', 'drug_rec_act']\n",
            "\n",
            "------------------------------------\n",
            "\n",
            "DataFrame Name: OUTC23Q4\n",
            "Columns: ['primaryid', 'caseid', 'outc_cod']\n",
            "\n",
            "------------------------------------\n",
            "\n",
            "DataFrame Name: INDI23Q4\n",
            "Columns: ['primaryid', 'caseid', 'indi_drug_seq', 'indi_pt']\n",
            "\n",
            "------------------------------------\n",
            "\n",
            "DataFrame Name: DEMO23Q4\n",
            "Columns: ['primaryid', 'caseid', 'caseversion', 'i_f_code', 'event_dt', 'mfr_dt', 'init_fda_dt', 'fda_dt', 'rept_cod', 'auth_num', 'mfr_num', 'mfr_sndr', 'lit_ref', 'age', 'age_cod', 'age_grp', 'sex', 'e_sub', 'wt', 'wt_cod', 'rept_dt', 'to_mfr', 'occp_cod', 'reporter_country', 'occr_country']\n",
            "\n",
            "------------------------------------\n",
            "\n"
          ]
        }
      ]
    },
    {
      "cell_type": "code",
      "source": [
        "# Concatenate DRUG23Q3 and DRUG23Q4 DataFrames\n",
        "drug_data_combined = pd.concat([data['DRUG23Q3'], data['DRUG23Q4']])\n",
        "\n",
        "# Get the top 10 drugs based on frequency\n",
        "top_drugs = drug_data_combined['drugname'].value_counts().nlargest(10).index.tolist()\n",
        "\n",
        "# Print the top 10 drugs\n",
        "print(\"Top 10 Drugs:\")\n",
        "print(top_drugs)\n"
      ],
      "metadata": {
        "colab": {
          "base_uri": "https://localhost:8080/"
        },
        "id": "SM2lNkLQlCOI",
        "outputId": "16ec78b8-15ae-46dd-ed4b-8227888d9d19"
      },
      "execution_count": 25,
      "outputs": [
        {
          "output_type": "stream",
          "name": "stdout",
          "text": [
            "Top 10 Drugs:\n",
            "['INFLECTRA', 'DUPIXENT', 'PREDNISONE', 'METHOTREXATE', 'VEDOLIZUMAB', 'ACETAMINOPHEN', 'ACETAMINOPHEN\\\\HYDROCODONE BITARTRATE', 'RITUXIMAB', 'TEDUGLUTIDE', 'COSENTYX']\n"
          ]
        }
      ]
    },
    {
      "cell_type": "code",
      "source": [
        "# Create an empty dictionary to store drug-specific DataFrames\n",
        "drug_groups = {}\n",
        "\n",
        "# Group the data by each drug and store in the dictionary\n",
        "for drug in top_drugs:\n",
        "    # Extract rows related to the current drug\n",
        "    drug_data = drug_data_combined[drug_data_combined['drugname'] == drug]\n",
        "    # Store the drug-specific DataFrame in the dictionary\n",
        "    drug_groups[drug] = drug_data\n",
        "\n",
        "# Print the first few rows of each drug-specific DataFrame\n",
        "for drug, drug_data in drug_groups.items():\n",
        "    print(f\"\\nDrug: {drug}\")\n",
        "    print(drug_data.head())\n"
      ],
      "metadata": {
        "colab": {
          "base_uri": "https://localhost:8080/"
        },
        "id": "ISvxFQrnlH56",
        "outputId": "82157c70-ba7f-4fb2-b16c-deb57bb1a935"
      },
      "execution_count": 26,
      "outputs": [
        {
          "output_type": "stream",
          "name": "stdout",
          "text": [
            "\n",
            "Drug: INFLECTRA\n",
            "        primaryid    caseid  drug_seq role_cod   drugname          prod_ai  \\\n",
            "17246  1402407341  14024073         1       PS  INFLECTRA  INFLIXIMAB-DYYB   \n",
            "17247  1402407341  14024073         2       SS  INFLECTRA  INFLIXIMAB-DYYB   \n",
            "17248  1402407341  14024073         3       SS  INFLECTRA  INFLIXIMAB-DYYB   \n",
            "17249  1402407341  14024073         4       SS  INFLECTRA  INFLIXIMAB-DYYB   \n",
            "17250  1402407341  14024073         5       SS  INFLECTRA  INFLIXIMAB-DYYB   \n",
            "\n",
            "       val_vbm                                  route  \\\n",
            "17246        1  Intravenous (not otherwise specified)   \n",
            "17247        1  Intravenous (not otherwise specified)   \n",
            "17248        1  Intravenous (not otherwise specified)   \n",
            "17249        1  Intravenous (not otherwise specified)   \n",
            "17250        1  Intravenous (not otherwise specified)   \n",
            "\n",
            "                                      dose_vbm  cum_dose_chr cum_dose_unit  \\\n",
            "17246  5 mg/kg, at 0, 2, 6, then every 8 weeks           NaN           NaN   \n",
            "17247   5 mg/kg, at 0, 2, 6 then every 8 weeks           NaN           NaN   \n",
            "17248                    700 mg, every 6 weeks           NaN           NaN   \n",
            "17249                    700 mg, every 6 weeks           NaN           NaN   \n",
            "17250                    700 mg, every 6 weeks           NaN           NaN   \n",
            "\n",
            "      dechal rechal lot_num  exp_dt   nda_num  dose_amt dose_unit  \\\n",
            "17246      U    NaN  243037     NaN  125544.0       5.0     MG/KG   \n",
            "17247      U    NaN  236097     NaN  125544.0       5.0     MG/KG   \n",
            "17248      U    NaN     NaN     NaN  125544.0     700.0        MG   \n",
            "17249      U    NaN  245107     NaN  125544.0     700.0        MG   \n",
            "17250      U    NaN  W35329     NaN  125544.0     700.0        MG   \n",
            "\n",
            "                  dose_form dose_freq  \n",
            "17246  Powder for injection       NaN  \n",
            "17247  Powder for injection       NaN  \n",
            "17248  Powder for injection       NaN  \n",
            "17249  Powder for injection       NaN  \n",
            "17250  Powder for injection       NaN  \n",
            "\n",
            "Drug: DUPIXENT\n",
            "       primaryid    caseid  drug_seq role_cod  drugname    prod_ai  val_vbm  \\\n",
            "15091  137323276  13732327         1       PS  DUPIXENT  DUPILUMAB        1   \n",
            "15092  137323276  13732327         2       SS  DUPIXENT  DUPILUMAB        1   \n",
            "15093  137323276  13732327         3       SS  DUPIXENT  DUPILUMAB        1   \n",
            "17436  140721985  14072198         1       PS  DUPIXENT  DUPILUMAB        1   \n",
            "17437  140721985  14072198         2       SS  DUPIXENT  DUPILUMAB        1   \n",
            "\n",
            "              route     dose_vbm  cum_dose_chr cum_dose_unit dechal rechal  \\\n",
            "15091  Subcutaneous       300 mg           NaN           NaN      N    NaN   \n",
            "15092  Subcutaneous  300 mg, QOW           NaN           NaN      N    NaN   \n",
            "15093           NaN          UNK           NaN           NaN      N    NaN   \n",
            "17436  Subcutaneous  300 mg, QOW           NaN           NaN    NaN    NaN   \n",
            "17437  Subcutaneous   300 mg,QOW           NaN           NaN    NaN    NaN   \n",
            "\n",
            "      lot_num  exp_dt   nda_num  dose_amt dose_unit               dose_form  \\\n",
            "15091     NaN     NaN  761055.0     300.0        MG  Solution for injection   \n",
            "15092     NaN     NaN  761055.0     300.0        MG  Solution for injection   \n",
            "15093     NaN     NaN  761055.0       NaN       NaN  Solution for injection   \n",
            "17436     NaN     NaN  761055.0     300.0        MG  Solution for injection   \n",
            "17437  7L115C     NaN  761055.0     300.0        MG  Solution for injection   \n",
            "\n",
            "      dose_freq  \n",
            "15091       NaN  \n",
            "15092       QOW  \n",
            "15093       NaN  \n",
            "17436       QOW  \n",
            "17437       QOW  \n",
            "\n",
            "Drug: PREDNISONE\n",
            "      primaryid    caseid  drug_seq role_cod    drugname     prod_ai  val_vbm  \\\n",
            "25    100503669  10050366         2        C  PREDNISONE  PREDNISONE        1   \n",
            "94   1014222249  10142222        20        C  PREDNISONE  PREDNISONE        1   \n",
            "95   1014222249  10142222        21        C  PREDNISONE  PREDNISONE        1   \n",
            "525  1060044429  10600444        40       SS  PREDNISONE  PREDNISONE        1   \n",
            "584  1063627321  10636273         6       SS  PREDNISONE  PREDNISONE        1   \n",
            "\n",
            "       route      dose_vbm  cum_dose_chr cum_dose_unit dechal rechal  lot_num  \\\n",
            "25       NaN           NaN           NaN           NaN      U    NaN      NaN   \n",
            "94       NaN           NaN           NaN           NaN    NaN    NaN      NaN   \n",
            "95       NaN           NaN           NaN           NaN    NaN    NaN      NaN   \n",
            "525     Oral  20 milligram           NaN           NaN    NaN    NaN      NaN   \n",
            "584  Unknown           NaN           NaN           NaN      U    NaN  UNKNOWN   \n",
            "\n",
            "     exp_dt  nda_num  dose_amt dose_unit dose_form dose_freq  \n",
            "25      NaN      NaN       NaN       NaN       NaN       NaN  \n",
            "94      NaN      NaN       7.5        MG       NaN       NaN  \n",
            "95      NaN      NaN       5.0        MG       NaN        QD  \n",
            "525     NaN      NaN      20.0        MG       NaN       NaN  \n",
            "584     NaN      NaN       NaN       NaN       NaN       NaN  \n",
            "\n",
            "Drug: METHOTREXATE\n",
            "       primaryid    caseid  drug_seq role_cod      drugname       prod_ai  \\\n",
            "457   1052927312  10529273        15        C  METHOTREXATE  METHOTREXATE   \n",
            "572    106362396  10636239         6        C  METHOTREXATE  METHOTREXATE   \n",
            "677   1071250916  10712509         5       SS  METHOTREXATE  METHOTREXATE   \n",
            "751   1080136615  10801366        16        C  METHOTREXATE  METHOTREXATE   \n",
            "1000  1099047563  10990475        15        C  METHOTREXATE  METHOTREXATE   \n",
            "\n",
            "      val_vbm    route               dose_vbm  cum_dose_chr cum_dose_unit  \\\n",
            "457         1      NaN  8 tablets once a week           NaN           NaN   \n",
            "572         1      NaN                    NaN           NaN           NaN   \n",
            "677         1  Unknown                    NaN           NaN           NaN   \n",
            "751         1      NaN                    NaN           NaN           NaN   \n",
            "1000        1      NaN                    NaN           NaN           NaN   \n",
            "\n",
            "     dechal rechal  lot_num  exp_dt  nda_num  dose_amt dose_unit dose_form  \\\n",
            "457     NaN    NaN      NaN     NaN      NaN       2.5        MG       NaN   \n",
            "572     NaN    NaN      NaN     NaN      NaN       NaN       NaN       NaN   \n",
            "677       U    NaN  UNKNOWN     NaN      NaN       NaN       NaN       NaN   \n",
            "751     NaN    NaN      NaN     NaN      NaN       NaN       NaN       NaN   \n",
            "1000    NaN    NaN      NaN     NaN      NaN      25.0        MG       NaN   \n",
            "\n",
            "     dose_freq  \n",
            "457        NaN  \n",
            "572        NaN  \n",
            "677        NaN  \n",
            "751        NaN  \n",
            "1000       /WK  \n",
            "\n",
            "Drug: VEDOLIZUMAB\n",
            "       primaryid    caseid  drug_seq role_cod     drugname      prod_ai  \\\n",
            "3278   116951915  11695191         1       PS  VEDOLIZUMAB  VEDOLIZUMAB   \n",
            "3279   116951915  11695191         2       SS  VEDOLIZUMAB  VEDOLIZUMAB   \n",
            "3280   116951915  11695191         3       SS  VEDOLIZUMAB  VEDOLIZUMAB   \n",
            "3918  1183887722  11838877         1       PS  VEDOLIZUMAB  VEDOLIZUMAB   \n",
            "3919  1183887722  11838877         2       SS  VEDOLIZUMAB  VEDOLIZUMAB   \n",
            "\n",
            "      val_vbm                                  route       dose_vbm  \\\n",
            "3278        1  Intravenous (not otherwise specified)  300 milligram   \n",
            "3279        1  Intravenous (not otherwise specified)  300 milligram   \n",
            "3280        1  Intravenous (not otherwise specified)  300 milligram   \n",
            "3918        1  Intravenous (not otherwise specified)  300 milligram   \n",
            "3919        1  Intravenous (not otherwise specified)  300 milligram   \n",
            "\n",
            "      cum_dose_chr cum_dose_unit dechal rechal   lot_num  exp_dt   nda_num  \\\n",
            "3278           NaN           NaN    NaN    NaN    315477     NaN  125476.0   \n",
            "3279           NaN           NaN    NaN    NaN  12407602     NaN  125476.0   \n",
            "3280           NaN           NaN    NaN    NaN  12452073     NaN  125476.0   \n",
            "3918           NaN           NaN    NaN    NaN    315477     NaN  125476.0   \n",
            "3919           NaN           NaN    NaN    NaN    343475     NaN  125476.0   \n",
            "\n",
            "      dose_amt dose_unit                         dose_form dose_freq  \n",
            "3278     300.0        MG  Powder for solution for infusion       NaN  \n",
            "3279     300.0        MG  Powder for solution for infusion       NaN  \n",
            "3280     300.0        MG  Powder for solution for infusion       NaN  \n",
            "3918     300.0        MG  Powder for solution for infusion       NaN  \n",
            "3919     300.0        MG  Powder for solution for infusion       NaN  \n",
            "\n",
            "Drug: ACETAMINOPHEN\n",
            "      primaryid    caseid  drug_seq role_cod       drugname        prod_ai  \\\n",
            "526  1060044429  10600444        41        C  ACETAMINOPHEN  ACETAMINOPHEN   \n",
            "527  1060044429  10600444        42        C  ACETAMINOPHEN  ACETAMINOPHEN   \n",
            "528  1060044429  10600444        43        C  ACETAMINOPHEN  ACETAMINOPHEN   \n",
            "589  1063627321  10636273        11        C  ACETAMINOPHEN  ACETAMINOPHEN   \n",
            "590  1063627321  10636273        12        C  ACETAMINOPHEN  ACETAMINOPHEN   \n",
            "\n",
            "     val_vbm route       dose_vbm  cum_dose_chr cum_dose_unit dechal rechal  \\\n",
            "526        1  Oral  650 milligram           NaN           NaN    NaN    NaN   \n",
            "527        1  Oral  650 milligram           NaN           NaN    NaN    NaN   \n",
            "528        1  Oral            UNK           NaN           NaN    NaN    NaN   \n",
            "589        1  Oral            NaN           NaN           NaN    NaN    NaN   \n",
            "590        1  Oral            NaN           NaN           NaN    NaN    NaN   \n",
            "\n",
            "    lot_num  exp_dt  nda_num  dose_amt dose_unit dose_form dose_freq  \n",
            "526     NaN     NaN      NaN     650.0        MG    Tablet       NaN  \n",
            "527     NaN     NaN      NaN     650.0        MG    Tablet       NaN  \n",
            "528     NaN     NaN      NaN       NaN       NaN    Tablet       NaN  \n",
            "589     NaN     NaN      NaN     650.0        MG       NaN       NaN  \n",
            "590     NaN     NaN      NaN     325.0        MG       NaN       NaN  \n",
            "\n",
            "Drug: ACETAMINOPHEN\\HYDROCODONE BITARTRATE\n",
            "       primaryid    caseid  drug_seq role_cod  \\\n",
            "8751   128532337  12853233        16        C   \n",
            "10343  130755948  13075594        37        C   \n",
            "19868  143777032  14377703         7        C   \n",
            "20515  144305599  14430559       120        C   \n",
            "25286  147606153  14760615        57        C   \n",
            "\n",
            "                                   drugname  \\\n",
            "8751   ACETAMINOPHEN\\HYDROCODONE BITARTRATE   \n",
            "10343  ACETAMINOPHEN\\HYDROCODONE BITARTRATE   \n",
            "19868  ACETAMINOPHEN\\HYDROCODONE BITARTRATE   \n",
            "20515  ACETAMINOPHEN\\HYDROCODONE BITARTRATE   \n",
            "25286  ACETAMINOPHEN\\HYDROCODONE BITARTRATE   \n",
            "\n",
            "                                    prod_ai  val_vbm    route dose_vbm  \\\n",
            "8751   ACETAMINOPHEN\\HYDROCODONE BITARTRATE        1      NaN  7.5-325   \n",
            "10343  ACETAMINOPHEN\\HYDROCODONE BITARTRATE        1      NaN      NaN   \n",
            "19868  ACETAMINOPHEN\\HYDROCODONE BITARTRATE        1  Unknown      NaN   \n",
            "20515  ACETAMINOPHEN\\HYDROCODONE BITARTRATE        1      NaN      NaN   \n",
            "25286  ACETAMINOPHEN\\HYDROCODONE BITARTRATE        1      NaN      NaN   \n",
            "\n",
            "       cum_dose_chr cum_dose_unit dechal rechal lot_num  exp_dt  nda_num  \\\n",
            "8751            NaN           NaN    NaN      U     NaN     NaN      NaN   \n",
            "10343           NaN           NaN    NaN    NaN     NaN     NaN      NaN   \n",
            "19868           NaN           NaN      U    NaN     NaN     NaN      NaN   \n",
            "20515           NaN           NaN    NaN    NaN     NaN     NaN      NaN   \n",
            "25286           NaN           NaN    NaN    NaN     NaN     NaN      NaN   \n",
            "\n",
            "       dose_amt dose_unit dose_form dose_freq  \n",
            "8751        NaN       NaN       NaN       NaN  \n",
            "10343       NaN       NaN       NaN       NaN  \n",
            "19868       NaN       NaN       NaN       NaN  \n",
            "20515       NaN       NaN       NaN       NaN  \n",
            "25286       NaN       NaN       NaN       NaN  \n",
            "\n",
            "Drug: RITUXIMAB\n",
            "       primaryid    caseid  drug_seq role_cod   drugname    prod_ai  val_vbm  \\\n",
            "488   1060044429  10600444         3       SS  RITUXIMAB  RITUXIMAB        1   \n",
            "489   1060044429  10600444         4       SS  RITUXIMAB  RITUXIMAB        1   \n",
            "2092  1144476721  11444767        21       SS  RITUXIMAB  RITUXIMAB        1   \n",
            "2093  1144476721  11444767        22       SS  RITUXIMAB  RITUXIMAB        1   \n",
            "2094  1144476721  11444767        23       SS  RITUXIMAB  RITUXIMAB        1   \n",
            "\n",
            "                                      route        dose_vbm  cum_dose_chr  \\\n",
            "488   Intravenous (not otherwise specified)  1000 milligram           NaN   \n",
            "489   Intravenous (not otherwise specified)             UNK           NaN   \n",
            "2092                       Intravenous drip             UNK           NaN   \n",
            "2093                           Subcutaneous             UNK           NaN   \n",
            "2094                                Unknown             UNK           NaN   \n",
            "\n",
            "     cum_dose_unit dechal rechal lot_num  exp_dt   nda_num  dose_amt  \\\n",
            "488            NaN      U    NaN     NaN     NaN  118281.0    1000.0   \n",
            "489            NaN      U    NaN     NaN     NaN  118281.0       NaN   \n",
            "2092           NaN      U    NaN     NaN     NaN  118281.0       NaN   \n",
            "2093           NaN      U    NaN     NaN     NaN  118281.0       NaN   \n",
            "2094           NaN      U    NaN     NaN     NaN  118281.0       NaN   \n",
            "\n",
            "     dose_unit            dose_form dose_freq  \n",
            "488         MG  Unknown formulation       NaN  \n",
            "489        NaN  Unknown formulation       NaN  \n",
            "2092       NaN  Unknown formulation       NaN  \n",
            "2093       NaN  Unknown formulation       NaN  \n",
            "2094       NaN  Unknown formulation       NaN  \n",
            "\n",
            "Drug: TEDUGLUTIDE\n",
            "      primaryid    caseid  drug_seq role_cod     drugname      prod_ai  \\\n",
            "4219  119338253  11933825         1       PS  TEDUGLUTIDE  TEDUGLUTIDE   \n",
            "4220  119338253  11933825         2       SS  TEDUGLUTIDE  TEDUGLUTIDE   \n",
            "4221  119338253  11933825         3       SS  TEDUGLUTIDE  TEDUGLUTIDE   \n",
            "4222  119338253  11933825         4       SS  TEDUGLUTIDE  TEDUGLUTIDE   \n",
            "4223  119338253  11933825         5       SS  TEDUGLUTIDE  TEDUGLUTIDE   \n",
            "\n",
            "      val_vbm         route dose_vbm  cum_dose_chr cum_dose_unit dechal  \\\n",
            "4219        1         Other      UNK           NaN           NaN      Y   \n",
            "4220        1         Other      UNK           NaN           NaN      Y   \n",
            "4221        1         Other      UNK           NaN           NaN      Y   \n",
            "4222        1         Other      UNK           NaN           NaN      Y   \n",
            "4223        1  Subcutaneous      UNK           NaN           NaN      Y   \n",
            "\n",
            "     rechal lot_num  exp_dt   nda_num  dose_amt dose_unit  \\\n",
            "4219    NaN     NaN     NaN  203441.0       NaN       NaN   \n",
            "4220    NaN     NaN     NaN  203441.0       NaN       NaN   \n",
            "4221    NaN     NaN     NaN  203441.0       NaN       NaN   \n",
            "4222    NaN     NaN     NaN  203441.0       NaN       NaN   \n",
            "4223    NaN     NaN     NaN  203441.0       NaN       NaN   \n",
            "\n",
            "                   dose_form dose_freq  \n",
            "4219  Solution for injection       NaN  \n",
            "4220  Solution for injection       NaN  \n",
            "4221  Solution for injection       NaN  \n",
            "4222  Solution for injection       NaN  \n",
            "4223  Solution for injection       NaN  \n",
            "\n",
            "Drug: COSENTYX\n",
            "       primaryid    caseid  drug_seq role_cod  drugname      prod_ai  val_vbm  \\\n",
            "2300  1144476721  11444767       229       SS  COSENTYX  SECUKINUMAB        1   \n",
            "2301  1144476721  11444767       230       SS  COSENTYX  SECUKINUMAB        1   \n",
            "2302  1144476721  11444767       231       SS  COSENTYX  SECUKINUMAB        1   \n",
            "3061  1162632832  11626328       136       SS  COSENTYX  SECUKINUMAB        1   \n",
            "3831  1180606217  11806062         1       PS  COSENTYX  SECUKINUMAB        1   \n",
            "\n",
            "             route    dose_vbm  cum_dose_chr cum_dose_unit dechal rechal  \\\n",
            "2300       Unknown         UNK           NaN           NaN    NaN    NaN   \n",
            "2301       Unknown         UNK           NaN           NaN    NaN    NaN   \n",
            "2302       Unknown         UNK           NaN           NaN    NaN    NaN   \n",
            "3061           NaN         UNK           NaN           NaN      U      U   \n",
            "3831  Subcutaneous  300 mg, QW           NaN           NaN      U    NaN   \n",
            "\n",
            "     lot_num  exp_dt   nda_num  dose_amt dose_unit               dose_form  \\\n",
            "2300     NaN     NaN       NaN       NaN       NaN  Solution for injection   \n",
            "2301     NaN     NaN       NaN       NaN       NaN  Solution for injection   \n",
            "2302     NaN     NaN       NaN       NaN       NaN  Solution for injection   \n",
            "3061     NaN     NaN       NaN       NaN       NaN                     NaN   \n",
            "3831     NaN     NaN  125504.0     300.0        MG  Solution for injection   \n",
            "\n",
            "     dose_freq  \n",
            "2300       NaN  \n",
            "2301       NaN  \n",
            "2302       NaN  \n",
            "3061       NaN  \n",
            "3831       /WK  \n"
          ]
        }
      ]
    },
    {
      "cell_type": "code",
      "source": [
        "# Check if reac23q3 DataFrame is defined\n",
        "if 'reac23q3' in locals() or 'reac23q3' in globals():\n",
        "    print(\"reac23q3 DataFrame is defined.\")\n",
        "else:\n",
        "    print(\"reac23q3 DataFrame is not defined.\")\n",
        "\n",
        "# Check if INFLECTRA DataFrame is defined\n",
        "if 'INFLECTRA' in locals() or 'INFLECTRA' in globals():\n",
        "    print(\"INFLECTRA DataFrame is defined.\")\n",
        "else:\n",
        "    print(\"INFLECTRA DataFrame is not defined.\")\n"
      ],
      "metadata": {
        "colab": {
          "base_uri": "https://localhost:8080/"
        },
        "id": "m7_gfVyylbh5",
        "outputId": "ba1a39f2-971d-4394-accd-7ba8e950364b"
      },
      "execution_count": 27,
      "outputs": [
        {
          "output_type": "stream",
          "name": "stdout",
          "text": [
            "reac23q3 DataFrame is not defined.\n",
            "INFLECTRA DataFrame is not defined.\n"
          ]
        }
      ]
    },
    {
      "cell_type": "code",
      "source": [
        "print(drug_data.columns)\n"
      ],
      "metadata": {
        "colab": {
          "base_uri": "https://localhost:8080/"
        },
        "id": "fAENjfZwm-8o",
        "outputId": "ea600335-62de-4dad-a364-624a2df77fc3"
      },
      "execution_count": 28,
      "outputs": [
        {
          "output_type": "stream",
          "name": "stdout",
          "text": [
            "Index(['primaryid', 'caseid', 'drug_seq', 'role_cod', 'drugname', 'prod_ai',\n",
            "       'val_vbm', 'route', 'dose_vbm', 'cum_dose_chr', 'cum_dose_unit',\n",
            "       'dechal', 'rechal', 'lot_num', 'exp_dt', 'nda_num', 'dose_amt',\n",
            "       'dose_unit', 'dose_form', 'dose_freq'],\n",
            "      dtype='object')\n"
          ]
        }
      ]
    },
    {
      "cell_type": "code",
      "source": [
        "# List all variables currently defined in the Jupyter Notebook environment\n",
        "%whos DataFrame\n"
      ],
      "metadata": {
        "colab": {
          "base_uri": "https://localhost:8080/"
        },
        "id": "52Oodv7Xsphp",
        "outputId": "b1a6ac6b-ae82-4ed7-a5b6-a4c4f97b6485"
      },
      "execution_count": 29,
      "outputs": [
        {
          "output_type": "stream",
          "name": "stdout",
          "text": [
            "Variable              Type         Data/Info\n",
            "--------------------------------------------\n",
            "adverse_reaction_df   DataFrame              primaryid    ca<...>1500033 rows x 4 columns]\n",
            "country_data          DataFrame        reporter_country age_<...>        GB       N     18\n",
            "demographic_df        DataFrame             primaryid    cas<...>415379 rows x 25 columns]\n",
            "df                    DataFrame             primaryid    cas<...>415379 rows x 25 columns]\n",
            "df_demo_filtered      DataFrame             primaryid    cas<...>224646 rows x 25 columns]\n",
            "drug_data             DataFrame              primaryid    ca<...>[23511 rows x 20 columns]\n",
            "drug_data_combined    DataFrame              primaryid    ca<...>689123 rows x 20 columns]\n",
            "drug_df               DataFrame             primaryid    cas<...>920732 rows x 20 columns]\n",
            "filtered_data         DataFrame        reporter_country age_<...>        GB       N     18\n",
            "grouped_data          DataFrame       age_grp  sex  count\\n0<...>3\\n12       T    M   1654\n",
            "indi_counts           DataFrame                             <...>e B-cell lymphoma    9381\n",
            "outc_counts           DataFrame      Outcome Code   Count\\n0<...>6\\n6           RI     952\n",
            "outcome_df            DataFrame             primaryid    cas<...>[327797 rows x 3 columns]\n",
            "output_data_frame     DataFrame             primaryid    cas<...>415379 rows x 25 columns]\n",
            "sorted_data           DataFrame        reporter_country age_<...>n\\n[458 rows x 3 columns]\n",
            "summary_stats         DataFrame              primaryid      <...>75.000000  2.024010e+07  \n"
          ]
        }
      ]
    },
    {
      "cell_type": "code",
      "source": [
        "top_10_drugs = drug_data_combined['drugname'].value_counts().head(10).index.tolist()\n"
      ],
      "metadata": {
        "id": "iJwk7cy-swaf"
      },
      "execution_count": 30,
      "outputs": []
    },
    {
      "cell_type": "code",
      "source": [
        "print(drug_data_combined.columns)\n",
        "print(adverse_reaction_df.columns)\n",
        "print(outcome_df.columns)\n"
      ],
      "metadata": {
        "colab": {
          "base_uri": "https://localhost:8080/"
        },
        "id": "NqVK_H1bt8lb",
        "outputId": "922c7d63-596b-4b4f-cac1-287c02c83c51"
      },
      "execution_count": 31,
      "outputs": [
        {
          "output_type": "stream",
          "name": "stdout",
          "text": [
            "Index(['primaryid', 'caseid', 'drug_seq', 'role_cod', 'drugname', 'prod_ai',\n",
            "       'val_vbm', 'route', 'dose_vbm', 'cum_dose_chr', 'cum_dose_unit',\n",
            "       'dechal', 'rechal', 'lot_num', 'exp_dt', 'nda_num', 'dose_amt',\n",
            "       'dose_unit', 'dose_form', 'dose_freq'],\n",
            "      dtype='object')\n",
            "Index(['primaryid', 'caseid', 'pt', 'drug_rec_act'], dtype='object')\n",
            "Index(['primaryid', 'caseid', 'outc_cod'], dtype='object')\n"
          ]
        }
      ]
    },
    {
      "cell_type": "code",
      "source": [
        "print(\"Drug Data Combined Columns:\", drug_data_combined.columns.tolist())\n",
        "print(\"Adverse Reaction DataFrame Columns:\", adverse_reaction_df.columns.tolist())\n",
        "print(\"Outcome DataFrame Columns:\", outcome_df.columns.tolist())\n"
      ],
      "metadata": {
        "colab": {
          "base_uri": "https://localhost:8080/"
        },
        "id": "raJi8vY0vhJI",
        "outputId": "a387f0ce-a7ed-4c66-9b63-fd5300f4d5cc"
      },
      "execution_count": 32,
      "outputs": [
        {
          "output_type": "stream",
          "name": "stdout",
          "text": [
            "Drug Data Combined Columns: ['primaryid', 'caseid', 'drug_seq', 'role_cod', 'drugname', 'prod_ai', 'val_vbm', 'route', 'dose_vbm', 'cum_dose_chr', 'cum_dose_unit', 'dechal', 'rechal', 'lot_num', 'exp_dt', 'nda_num', 'dose_amt', 'dose_unit', 'dose_form', 'dose_freq']\n",
            "Adverse Reaction DataFrame Columns: ['primaryid', 'caseid', 'pt', 'drug_rec_act']\n",
            "Outcome DataFrame Columns: ['primaryid', 'caseid', 'outc_cod']\n"
          ]
        }
      ]
    },
    {
      "cell_type": "code",
      "source": [
        "top_drugs = drug_data_combined['drugname'].value_counts().head(10).index.tolist()\n",
        "print(\"Top 10 Drugs:\", top_drugs)\n"
      ],
      "metadata": {
        "colab": {
          "base_uri": "https://localhost:8080/"
        },
        "id": "xh9XtKK5w2A5",
        "outputId": "ea952878-4b66-431e-8a76-7a5b5bd009c1"
      },
      "execution_count": 33,
      "outputs": [
        {
          "output_type": "stream",
          "name": "stdout",
          "text": [
            "Top 10 Drugs: ['INFLECTRA', 'DUPIXENT', 'PREDNISONE', 'METHOTREXATE', 'VEDOLIZUMAB', 'ACETAMINOPHEN', 'ACETAMINOPHEN\\\\HYDROCODONE BITARTRATE', 'RITUXIMAB', 'TEDUGLUTIDE', 'COSENTYX']\n"
          ]
        }
      ]
    },
    {
      "cell_type": "code",
      "source": [
        "# Select the first drug from your top 10 list\n",
        "selected_drug = top_drugs[0]\n",
        "\n",
        "# Filter adverse reaction data for the selected drug\n",
        "filtered_adverse_reactions = adverse_reaction_df[adverse_reaction_df['primaryid'].isin(drug_data_combined[drug_data_combined['drugname'] == selected_drug]['primaryid'])]\n",
        "\n",
        "# Filter outcomes data for the selected drug\n",
        "filtered_outcomes = outcome_df[outcome_df['primaryid'].isin(drug_data_combined[drug_data_combined['drugname'] == selected_drug]['primaryid'])]\n",
        "\n",
        "# Print basic info about the filtered data\n",
        "print(f\"Adverse reactions for {selected_drug}: {filtered_adverse_reactions.shape[0]} records found.\")\n",
        "print(f\"Outcomes for {selected_drug}: {filtered_outcomes.shape[0]} records found.\")\n"
      ],
      "metadata": {
        "colab": {
          "base_uri": "https://localhost:8080/"
        },
        "id": "wueW3P1xw503",
        "outputId": "07a991ef-5ba0-4b0d-e755-4ae252d64d7a"
      },
      "execution_count": 34,
      "outputs": [
        {
          "output_type": "stream",
          "name": "stdout",
          "text": [
            "Adverse reactions for INFLECTRA: 45977 records found.\n",
            "Outcomes for INFLECTRA: 4397 records found.\n"
          ]
        }
      ]
    },
    {
      "cell_type": "code",
      "source": [
        "common_reactions = filtered_adverse_reactions['pt'].value_counts().head(5)\n",
        "print(\"Most common adverse reactions for INFLECTRA:\", common_reactions)\n"
      ],
      "metadata": {
        "colab": {
          "base_uri": "https://localhost:8080/"
        },
        "id": "eeGpJApZxAW4",
        "outputId": "0b198940-a9a9-493d-b89b-7c08c246e9b3"
      },
      "execution_count": 35,
      "outputs": [
        {
          "output_type": "stream",
          "name": "stdout",
          "text": [
            "Most common adverse reactions for INFLECTRA: Off label use                                       5204\n",
            "Condition aggravated                                2578\n",
            "Intentional product use issue                       1878\n",
            "Inappropriate schedule of product administration    1397\n",
            "Arthralgia                                          1314\n",
            "Name: pt, dtype: int64\n"
          ]
        }
      ]
    },
    {
      "cell_type": "code",
      "source": [
        "outcome_distribution = filtered_outcomes['outc_cod'].value_counts()\n",
        "print(\"Outcome distribution for INFLECTRA:\", outcome_distribution)\n"
      ],
      "metadata": {
        "colab": {
          "base_uri": "https://localhost:8080/"
        },
        "id": "HaEviOcNxDON",
        "outputId": "1d28fdee-2ca7-4555-dfe4-e7bccf4e67b3"
      },
      "execution_count": 36,
      "outputs": [
        {
          "output_type": "stream",
          "name": "stdout",
          "text": [
            "Outcome distribution for INFLECTRA: OT    3384\n",
            "HO     910\n",
            "DE      43\n",
            "DS      31\n",
            "LT      25\n",
            "CA       2\n",
            "RI       2\n",
            "Name: outc_cod, dtype: int64\n"
          ]
        }
      ]
    },
    {
      "cell_type": "code",
      "source": [
        "for drug in top_drugs:\n",
        "    # Filter data for the current drug\n",
        "    filtered_adverse = adverse_reaction_df[adverse_reaction_df['primaryid'].isin(drug_data_combined[drug_data_combined['drugname'] == drug]['primaryid'])]\n",
        "    filtered_outcomes = outcome_df[outcome_df['primaryid'].isin(drug_data_combined[drug_data_combined['drugname'] == drug]['primaryid'])]\n",
        "\n",
        "    # Analyze adverse reactions\n",
        "    common_reactions = filtered_adverse['pt'].value_counts().head(5)\n",
        "    print(f\"Most common adverse reactions for {drug}:\", common_reactions)\n",
        "\n",
        "    # Analyze outcomes\n",
        "    outcome_distribution = filtered_outcomes['outc_cod'].value_counts()\n",
        "    print(f\"Outcome distribution for {drug}:\", outcome_distribution, \"\\n\")\n"
      ],
      "metadata": {
        "colab": {
          "base_uri": "https://localhost:8080/"
        },
        "id": "wzVdAttjxRTz",
        "outputId": "41d35369-dffe-4219-9239-be8f551a787a"
      },
      "execution_count": 37,
      "outputs": [
        {
          "output_type": "stream",
          "name": "stdout",
          "text": [
            "Most common adverse reactions for INFLECTRA: Off label use                                       5204\n",
            "Condition aggravated                                2578\n",
            "Intentional product use issue                       1878\n",
            "Inappropriate schedule of product administration    1397\n",
            "Arthralgia                                          1314\n",
            "Name: pt, dtype: int64\n",
            "Outcome distribution for INFLECTRA: OT    3384\n",
            "HO     910\n",
            "DE      43\n",
            "DS      31\n",
            "LT      25\n",
            "CA       2\n",
            "RI       2\n",
            "Name: outc_cod, dtype: int64 \n",
            "\n",
            "Most common adverse reactions for DUPIXENT: Pruritus                                3109\n",
            "Product use in unapproved indication    1828\n",
            "Rash                                    1814\n",
            "Injection site pain                     1757\n",
            "Dry skin                                1694\n",
            "Name: pt, dtype: int64\n",
            "Outcome distribution for DUPIXENT: OT    1688\n",
            "HO    1032\n",
            "DS     147\n",
            "DE      51\n",
            "LT      18\n",
            "RI       7\n",
            "CA       4\n",
            "Name: outc_cod, dtype: int64 \n",
            "\n",
            "Most common adverse reactions for PREDNISONE: Off label use           4256\n",
            "Drug ineffective        2142\n",
            "Condition aggravated    1772\n",
            "Fatigue                 1764\n",
            "Arthralgia              1580\n",
            "Name: pt, dtype: int64\n",
            "Outcome distribution for PREDNISONE: OT    10199\n",
            "HO     5223\n",
            "DE     1088\n",
            "LT      972\n",
            "DS      593\n",
            "CA      158\n",
            "RI       16\n",
            "Name: outc_cod, dtype: int64 \n",
            "\n",
            "Most common adverse reactions for METHOTREXATE: Off label use       2184\n",
            "Drug ineffective    1869\n",
            "Arthralgia          1328\n",
            "Pain                1106\n",
            "Fatigue             1034\n",
            "Name: pt, dtype: int64\n",
            "Outcome distribution for METHOTREXATE: OT    6374\n",
            "HO    3076\n",
            "DE     849\n",
            "LT     815\n",
            "DS     676\n",
            "CA     143\n",
            "RI       8\n",
            "Name: outc_cod, dtype: int64 \n",
            "\n",
            "Most common adverse reactions for VEDOLIZUMAB: Off label use         2239\n",
            "Colitis ulcerative    1160\n",
            "Crohn's disease        986\n",
            "Diarrhoea              855\n",
            "Abdominal pain         757\n",
            "Name: pt, dtype: int64\n",
            "Outcome distribution for VEDOLIZUMAB: OT    4614\n",
            "HO    1352\n",
            "DE     123\n",
            "DS      35\n",
            "LT      18\n",
            "CA       3\n",
            "Name: outc_cod, dtype: int64 \n",
            "\n",
            "Most common adverse reactions for ACETAMINOPHEN: Off label use    2103\n",
            "Fatigue          1481\n",
            "Headache         1361\n",
            "Pain             1205\n",
            "Nausea           1193\n",
            "Name: pt, dtype: int64\n",
            "Outcome distribution for ACETAMINOPHEN: OT    7254\n",
            "HO    5458\n",
            "DE    1644\n",
            "LT    1126\n",
            "DS     565\n",
            "CA     164\n",
            "RI      12\n",
            "Name: outc_cod, dtype: int64 \n",
            "\n",
            "Most common adverse reactions for ACETAMINOPHEN\\HYDROCODONE BITARTRATE: Dependence                           7671\n",
            "Overdose                             2550\n",
            "Drug withdrawal syndrome neonatal    1831\n",
            "Foetal exposure during pregnancy     1823\n",
            "Withdrawal syndrome                  1314\n",
            "Name: pt, dtype: int64\n",
            "Outcome distribution for ACETAMINOPHEN\\HYDROCODONE BITARTRATE: OT    7914\n",
            "DE     932\n",
            "HO      21\n",
            "DS       9\n",
            "CA       1\n",
            "LT       1\n",
            "Name: outc_cod, dtype: int64 \n",
            "\n",
            "Most common adverse reactions for RITUXIMAB: Off label use           1859\n",
            "Drug ineffective        1019\n",
            "Fatigue                  709\n",
            "Pain                     695\n",
            "Rheumatoid arthritis     650\n",
            "Name: pt, dtype: int64\n",
            "Outcome distribution for RITUXIMAB: OT    4558\n",
            "HO    2434\n",
            "DE    1232\n",
            "LT     858\n",
            "DS     648\n",
            "CA     162\n",
            "RI       1\n",
            "Name: outc_cod, dtype: int64 \n",
            "\n",
            "Most common adverse reactions for TEDUGLUTIDE: Weight decreased               204\n",
            "Vascular device infection      171\n",
            "Diarrhoea                      166\n",
            "Product dose omission issue    163\n",
            "Abdominal pain                 139\n",
            "Name: pt, dtype: int64\n",
            "Outcome distribution for TEDUGLUTIDE: OT    873\n",
            "HO    798\n",
            "DE     58\n",
            "LT     27\n",
            "DS     12\n",
            "CA      1\n",
            "Name: outc_cod, dtype: int64 \n",
            "\n",
            "Most common adverse reactions for COSENTYX: Drug ineffective         1155\n",
            "Psoriasis                1115\n",
            "Arthralgia                970\n",
            "Pain                      945\n",
            "Psoriatic arthropathy     664\n",
            "Name: pt, dtype: int64\n",
            "Outcome distribution for COSENTYX: OT    2635\n",
            "HO    1146\n",
            "DS     524\n",
            "LT     523\n",
            "DE     422\n",
            "CA     113\n",
            "RI       8\n",
            "Name: outc_cod, dtype: int64 \n",
            "\n"
          ]
        }
      ]
    },
    {
      "cell_type": "code",
      "source": [
        "# List of all data frames in the environment\n",
        "data_frames = [drug_data_combined, adverse_reaction_df, outcome_df]\n",
        "\n",
        "# Iterate through each data frame\n",
        "for df in data_frames:\n",
        "    print(f\"DataFrame Columns: {df.columns}\")\n",
        "    dur_columns = [col for col in df.columns if 'DUR' in col]\n",
        "    if dur_columns:\n",
        "        print(f\"Found therapy duration columns in DataFrame: {dur_columns}\")\n",
        "    else:\n",
        "        print(\"Therapy duration columns not found in this DataFrame\")\n",
        "    print()\n"
      ],
      "metadata": {
        "colab": {
          "base_uri": "https://localhost:8080/"
        },
        "id": "SfF3YVFwx5T_",
        "outputId": "45130fdc-95a9-46ea-8bab-72602f98507a"
      },
      "execution_count": 38,
      "outputs": [
        {
          "output_type": "stream",
          "name": "stdout",
          "text": [
            "DataFrame Columns: Index(['primaryid', 'caseid', 'drug_seq', 'role_cod', 'drugname', 'prod_ai',\n",
            "       'val_vbm', 'route', 'dose_vbm', 'cum_dose_chr', 'cum_dose_unit',\n",
            "       'dechal', 'rechal', 'lot_num', 'exp_dt', 'nda_num', 'dose_amt',\n",
            "       'dose_unit', 'dose_form', 'dose_freq'],\n",
            "      dtype='object')\n",
            "Therapy duration columns not found in this DataFrame\n",
            "\n",
            "DataFrame Columns: Index(['primaryid', 'caseid', 'pt', 'drug_rec_act'], dtype='object')\n",
            "Therapy duration columns not found in this DataFrame\n",
            "\n",
            "DataFrame Columns: Index(['primaryid', 'caseid', 'outc_cod'], dtype='object')\n",
            "Therapy duration columns not found in this DataFrame\n",
            "\n"
          ]
        }
      ]
    },
    {
      "cell_type": "code",
      "source": [
        "# List of all data frames in the environment\n",
        "data_frames = [drug_data_combined, adverse_reaction_df, outcome_df]\n",
        "\n",
        "# Iterate through each data frame\n",
        "for df_name, df in zip([\"drug_data_combined\", \"adverse_reaction_df\", \"outcome_df\"], data_frames):\n",
        "    print(f\"DataFrame: {df_name}\")\n",
        "    dur_columns = [col for col in df.columns if 'DUR' in col]\n",
        "    if dur_columns:\n",
        "        print(f\"Therapy duration columns found: {dur_columns}\")\n",
        "    else:\n",
        "        print(\"Therapy duration columns not found in this DataFrame\")\n",
        "    print()\n"
      ],
      "metadata": {
        "colab": {
          "base_uri": "https://localhost:8080/"
        },
        "id": "KWV5boESyHDL",
        "outputId": "cbbea111-891c-4cda-a2f0-20f2d22bc8a7"
      },
      "execution_count": 39,
      "outputs": [
        {
          "output_type": "stream",
          "name": "stdout",
          "text": [
            "DataFrame: drug_data_combined\n",
            "Therapy duration columns not found in this DataFrame\n",
            "\n",
            "DataFrame: adverse_reaction_df\n",
            "Therapy duration columns not found in this DataFrame\n",
            "\n",
            "DataFrame: outcome_df\n",
            "Therapy duration columns not found in this DataFrame\n",
            "\n"
          ]
        }
      ]
    },
    {
      "cell_type": "code",
      "source": [
        "import pandas as pd\n",
        "\n",
        "# Define the file path\n",
        "file_path = r'C:\\Users\\kms97\\OneDrive\\Desktop\\Project-IS833\\FAERS-analytics\\data-out\\FAERS_ASCII_2023_Q4\\ASCII\\THER23Q4.txt'\n",
        "\n",
        "try:\n",
        "    # Read the file\n",
        "    with open(file_path, 'r') as file:\n",
        "        # Read the lines from the file\n",
        "        lines = file.readlines()\n",
        "\n",
        "        # List to store therapy duration data\n",
        "        therapy_duration_data = []\n",
        "\n",
        "        # Extract therapy duration columns\n",
        "        for line in lines:\n",
        "            if 'DUR' in line and 'DUR_COD' in line:\n",
        "                print(\"Therapy duration columns found:\")\n",
        "                print(line.strip())\n",
        "                therapy_duration_data.append(line.strip().split('$'))\n",
        "            else:\n",
        "                print(\"Therapy duration columns not found in this line:\")\n",
        "                print(line.strip())\n",
        "\n",
        "    # Create a DataFrame from the extracted data\n",
        "    therapy_duration_df = pd.DataFrame(therapy_duration_data, columns=['primaryid', 'caseid', 'DUR', 'DUR_COD'])\n",
        "\n",
        "    # Display the first few rows of the DataFrame\n",
        "    print(therapy_duration_df.head())\n",
        "\n",
        "except FileNotFoundError:\n",
        "    print(f\"File not found: {file_path}\")\n"
      ],
      "metadata": {
        "colab": {
          "base_uri": "https://localhost:8080/"
        },
        "id": "LmX2rDZKyf5A",
        "outputId": "636b75d4-cfb3-4dd7-f5b2-71be0d567233"
      },
      "execution_count": 48,
      "outputs": [
        {
          "output_type": "stream",
          "name": "stdout",
          "text": [
            "File not found: C:\\Users\\kms97\\OneDrive\\Desktop\\Project-IS833\\FAERS-analytics\\data-out\\FAERS_ASCII_2023_Q4\\ASCII\\THER23Q4.txt\n"
          ]
        }
      ]
    }
  ]
}